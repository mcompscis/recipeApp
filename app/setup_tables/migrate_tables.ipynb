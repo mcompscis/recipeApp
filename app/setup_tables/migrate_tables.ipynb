{
 "cells": [
  {
   "cell_type": "code",
   "execution_count": 2,
   "id": "capital-cincinnati",
   "metadata": {},
   "outputs": [],
   "source": [
    "import pandas as pd\n",
    "import numpy as np\n",
    "from mysql.connector import connect\n",
    "import json\n",
    "from os import path\n",
    "from utils import get_db_creds\n",
    "import sqlalchemy"
   ]
  },
  {
   "cell_type": "code",
   "execution_count": 3,
   "id": "cloudy-bernard",
   "metadata": {},
   "outputs": [],
   "source": [
    "db_creds = get_db_creds()\n",
    "connection = connect(**db_creds)"
   ]
  },
  {
   "cell_type": "code",
   "execution_count": 4,
   "id": "572e7d3f",
   "metadata": {},
   "outputs": [],
   "source": [
    "conn = sqlalchemy.create_engine('mysql+mysqlconnector://{0}:{1}@{2}/{3}'\n",
    "            .format(db_creds[\"user\"], db_creds[\"password\"], db_creds[\"host\"], db_creds[\"database\"])).connect()"
   ]
  },
  {
   "cell_type": "code",
   "execution_count": 5,
   "id": "5bebf34f",
   "metadata": {},
   "outputs": [
    {
     "data": {
      "text/html": [
       "<div>\n",
       "<style scoped>\n",
       "    .dataframe tbody tr th:only-of-type {\n",
       "        vertical-align: middle;\n",
       "    }\n",
       "\n",
       "    .dataframe tbody tr th {\n",
       "        vertical-align: top;\n",
       "    }\n",
       "\n",
       "    .dataframe thead th {\n",
       "        text-align: right;\n",
       "    }\n",
       "</style>\n",
       "<table border=\"1\" class=\"dataframe\">\n",
       "  <thead>\n",
       "    <tr style=\"text-align: right;\">\n",
       "      <th></th>\n",
       "      <th>user_id</th>\n",
       "      <th>username</th>\n",
       "      <th>password</th>\n",
       "    </tr>\n",
       "  </thead>\n",
       "  <tbody>\n",
       "    <tr>\n",
       "      <th>0</th>\n",
       "      <td>1</td>\n",
       "      <td>Elizebeth_Marshall</td>\n",
       "      <td>password</td>\n",
       "    </tr>\n",
       "    <tr>\n",
       "      <th>1</th>\n",
       "      <td>2</td>\n",
       "      <td>Dwayne_Stpierre</td>\n",
       "      <td>password</td>\n",
       "    </tr>\n",
       "    <tr>\n",
       "      <th>2</th>\n",
       "      <td>3</td>\n",
       "      <td>Kim_Mclaughlin</td>\n",
       "      <td>password</td>\n",
       "    </tr>\n",
       "    <tr>\n",
       "      <th>3</th>\n",
       "      <td>4</td>\n",
       "      <td>Frank_Barrette</td>\n",
       "      <td>password</td>\n",
       "    </tr>\n",
       "    <tr>\n",
       "      <th>4</th>\n",
       "      <td>5</td>\n",
       "      <td>Timothy_Hackman</td>\n",
       "      <td>password</td>\n",
       "    </tr>\n",
       "  </tbody>\n",
       "</table>\n",
       "</div>"
      ],
      "text/plain": [
       "   user_id            username  password\n",
       "0        1  Elizebeth_Marshall  password\n",
       "1        2     Dwayne_Stpierre  password\n",
       "2        3      Kim_Mclaughlin  password\n",
       "3        4      Frank_Barrette  password\n",
       "4        5     Timothy_Hackman  password"
      ]
     },
     "execution_count": 5,
     "metadata": {},
     "output_type": "execute_result"
    }
   ],
   "source": [
    "users_df = pd.read_csv(\"users.csv\")\n",
    "users_df = users_df.rename(columns={\"hashed_password\": \"password\"})\n",
    "users_df[\"username\"] = users_df[\"username\"].str.replace(\" \", \"_\")\n",
    "username_set = set()\n",
    "for i in range(len(users_df)):\n",
    "    counter = 1\n",
    "    while (users_df.iloc[i][\"username\"] in username_set):\n",
    "        users_df.loc[users_df.index == i, \"username\"] = users_df.iloc[i][\"username\"] + \"_\" + str(counter)\n",
    "        counter += 1\n",
    "    username_set.add(users_df.iloc[i][\"username\"])\n",
    "users_df.head()"
   ]
  },
  {
   "cell_type": "code",
   "execution_count": 6,
   "id": "a95942dc",
   "metadata": {},
   "outputs": [],
   "source": [
    "users_df.to_sql(name=\"User\", con=conn, if_exists=\"append\", index=False,)"
   ]
  },
  {
   "cell_type": "code",
   "execution_count": 7,
   "id": "76a2d174",
   "metadata": {},
   "outputs": [
    {
     "data": {
      "text/html": [
       "<div>\n",
       "<style scoped>\n",
       "    .dataframe tbody tr th:only-of-type {\n",
       "        vertical-align: middle;\n",
       "    }\n",
       "\n",
       "    .dataframe tbody tr th {\n",
       "        vertical-align: top;\n",
       "    }\n",
       "\n",
       "    .dataframe thead th {\n",
       "        text-align: right;\n",
       "    }\n",
       "</style>\n",
       "<table border=\"1\" class=\"dataframe\">\n",
       "  <thead>\n",
       "    <tr style=\"text-align: right;\">\n",
       "      <th></th>\n",
       "      <th>cuisine_id</th>\n",
       "      <th>cuisine_name</th>\n",
       "    </tr>\n",
       "  </thead>\n",
       "  <tbody>\n",
       "    <tr>\n",
       "      <th>0</th>\n",
       "      <td>1</td>\n",
       "      <td>north-american</td>\n",
       "    </tr>\n",
       "    <tr>\n",
       "      <th>1</th>\n",
       "      <td>2</td>\n",
       "      <td>global</td>\n",
       "    </tr>\n",
       "    <tr>\n",
       "      <th>2</th>\n",
       "      <td>3</td>\n",
       "      <td>asian</td>\n",
       "    </tr>\n",
       "    <tr>\n",
       "      <th>3</th>\n",
       "      <td>4</td>\n",
       "      <td>german</td>\n",
       "    </tr>\n",
       "    <tr>\n",
       "      <th>4</th>\n",
       "      <td>5</td>\n",
       "      <td>italian</td>\n",
       "    </tr>\n",
       "  </tbody>\n",
       "</table>\n",
       "</div>"
      ],
      "text/plain": [
       "   cuisine_id    cuisine_name\n",
       "0           1  north-american\n",
       "1           2          global\n",
       "2           3           asian\n",
       "3           4          german\n",
       "4           5         italian"
      ]
     },
     "execution_count": 7,
     "metadata": {},
     "output_type": "execute_result"
    }
   ],
   "source": [
    "cuisines_df = pd.read_csv(\"cuisines.csv\")\n",
    "cuisines_df.head()"
   ]
  },
  {
   "cell_type": "code",
   "execution_count": 8,
   "id": "65b8ada8",
   "metadata": {},
   "outputs": [],
   "source": [
    "cuisines_df.to_sql(name=\"Cuisine\", con=conn, if_exists=\"append\", index=False,)"
   ]
  },
  {
   "cell_type": "code",
   "execution_count": 22,
   "id": "ea9b6416",
   "metadata": {},
   "outputs": [
    {
     "data": {
      "text/html": [
       "<div>\n",
       "<style scoped>\n",
       "    .dataframe tbody tr th:only-of-type {\n",
       "        vertical-align: middle;\n",
       "    }\n",
       "\n",
       "    .dataframe tbody tr th {\n",
       "        vertical-align: top;\n",
       "    }\n",
       "\n",
       "    .dataframe thead th {\n",
       "        text-align: right;\n",
       "    }\n",
       "</style>\n",
       "<table border=\"1\" class=\"dataframe\">\n",
       "  <thead>\n",
       "    <tr style=\"text-align: right;\">\n",
       "      <th></th>\n",
       "      <th>tag_text</th>\n",
       "      <th>tag_id</th>\n",
       "    </tr>\n",
       "  </thead>\n",
       "  <tbody>\n",
       "    <tr>\n",
       "      <th>0</th>\n",
       "      <td></td>\n",
       "      <td>1</td>\n",
       "    </tr>\n",
       "    <tr>\n",
       "      <th>1</th>\n",
       "      <td>broccoli</td>\n",
       "      <td>2</td>\n",
       "    </tr>\n",
       "    <tr>\n",
       "      <th>2</th>\n",
       "      <td>course</td>\n",
       "      <td>3</td>\n",
       "    </tr>\n",
       "    <tr>\n",
       "      <th>3</th>\n",
       "      <td>pork-sausage</td>\n",
       "      <td>4</td>\n",
       "    </tr>\n",
       "    <tr>\n",
       "      <th>4</th>\n",
       "      <td>salads</td>\n",
       "      <td>5</td>\n",
       "    </tr>\n",
       "  </tbody>\n",
       "</table>\n",
       "</div>"
      ],
      "text/plain": [
       "       tag_text  tag_id\n",
       "0                     1\n",
       "1      broccoli       2\n",
       "2        course       3\n",
       "3  pork-sausage       4\n",
       "4        salads       5"
      ]
     },
     "execution_count": 22,
     "metadata": {},
     "output_type": "execute_result"
    }
   ],
   "source": [
    "tags_df = pd.read_csv(\"tags.csv\")\n",
    "tags_df = tags_df.fillna(\"\")\n",
    "tags_df.head()"
   ]
  },
  {
   "cell_type": "code",
   "execution_count": 23,
   "id": "e199d084",
   "metadata": {},
   "outputs": [],
   "source": [
    "tags_df.to_sql(name=\"Tag\", con=conn, if_exists=\"append\", index=False,)"
   ]
  },
  {
   "cell_type": "code",
   "execution_count": 11,
   "id": "225e6402",
   "metadata": {},
   "outputs": [
    {
     "name": "stdout",
     "output_type": "stream",
     "text": [
      "<class 'pandas.core.frame.DataFrame'>\n",
      "Int64Index: 8023 entries, 0 to 11658\n",
      "Data columns (total 2 columns):\n",
      " #   Column           Non-Null Count  Dtype \n",
      "---  ------           --------------  ----- \n",
      " 0   ingredient_name  8023 non-null   object\n",
      " 1   ingredient_id    8023 non-null   int64 \n",
      "dtypes: int64(1), object(1)\n",
      "memory usage: 188.0+ KB\n"
     ]
    }
   ],
   "source": [
    "ingr_map_df = pd.read_csv(\"ingr_map.csv\")\n",
    "# ingr_map_df = ingr_map_df.rename(columns={\"replaced\": \"ingredient_name\", \"id\": \"ingredient_id\"})\n",
    "# ingr_map_df = ingr_map_df[[\"ingredient_name\", \"ingredient_id\"]]\n",
    "# ingr_map_df = ingr_map_df.drop_duplicates()\n",
    "# ingr_map_df.loc[ingr_map_df[\"ingredient_id\"] == 0, \"ingredient_id\"] = ingr_map_df[\"ingredient_id\"].max() + 1\n",
    "ingr_map_df.info()"
   ]
  },
  {
   "cell_type": "code",
   "execution_count": 12,
   "id": "9694d113",
   "metadata": {},
   "outputs": [],
   "source": [
    "ingr_map_df.to_sql(name=\"Ingredient\", con=conn, if_exists=\"append\", index=False,)"
   ]
  },
  {
   "cell_type": "code",
   "execution_count": 13,
   "id": "18cc4365",
   "metadata": {},
   "outputs": [
    {
     "name": "stdout",
     "output_type": "stream",
     "text": [
      "<class 'pandas.core.frame.DataFrame'>\n",
      "RangeIndex: 155751 entries, 0 to 155750\n",
      "Data columns (total 11 columns):\n",
      " #   Column           Non-Null Count   Dtype  \n",
      "---  ------           --------------   -----  \n",
      " 0   recipe_id        155751 non-null  int64  \n",
      " 1   creator_id       155751 non-null  int64  \n",
      " 2   recipe_name      155751 non-null  object \n",
      " 3   serves           155751 non-null  int64  \n",
      " 4   date_submitted   155751 non-null  object \n",
      " 5   cuisine_id       155751 non-null  int64  \n",
      " 6   description      152310 non-null  object \n",
      " 7   recipe_text      155751 non-null  object \n",
      " 8   calories         155751 non-null  float64\n",
      " 9   time_to_prepare  155751 non-null  int64  \n",
      " 10  img_url          155751 non-null  object \n",
      "dtypes: float64(1), int64(5), object(5)\n",
      "memory usage: 13.1+ MB\n"
     ]
    }
   ],
   "source": [
    "recipe_df = pd.read_csv(\"recipe_155k_with_all_updated_columns.csv\")\n",
    "columns_needed = [\"recipe_id\", \"creator_id\", \"recipe_name\", \"serves\",\n",
    "                 \"date_submitted\", \"cuisine_id\", \"description\",\n",
    "                 \"recipe_text\", \"calories\", \"time_to_prepare\",\n",
    "                 \"img_url\"]\n",
    "recipe_df = recipe_df[columns_needed]\n",
    "recipe_df.info()"
   ]
  },
  {
   "cell_type": "code",
   "execution_count": 14,
   "id": "102f9099",
   "metadata": {},
   "outputs": [],
   "source": [
    "recipe_df.to_sql(name=\"Recipe\", con=conn, if_exists=\"append\", index=False,)"
   ]
  },
  {
   "cell_type": "code",
   "execution_count": 15,
   "id": "fac665fe",
   "metadata": {},
   "outputs": [
    {
     "name": "stdout",
     "output_type": "stream",
     "text": [
      "<class 'pandas.core.frame.DataFrame'>\n",
      "Int64Index: 1364897 entries, 0 to 1366603\n",
      "Data columns (total 4 columns):\n",
      " #   Column            Non-Null Count    Dtype  \n",
      "---  ------            --------------    -----  \n",
      " 0   recipe_id         1364897 non-null  int64  \n",
      " 1   ingredient_id     1364897 non-null  int64  \n",
      " 2   quantity          1279760 non-null  float64\n",
      " 3   measurement_unit  1279760 non-null  object \n",
      "dtypes: float64(1), int64(2), object(1)\n",
      "memory usage: 52.1+ MB\n"
     ]
    }
   ],
   "source": [
    "recipe_ingredients_df = pd.read_csv(\"recipe_ingredients_df.csv\")\n",
    "recipe_ingredients_df = recipe_ingredients_df.drop_duplicates(subset=[\"recipe_id\", \"ingredient_id\"])\n",
    "recipe_ingredients_df.loc[recipe_ingredients_df[\"ingredient_id\"] == 0, \"ingredient_id\"] = ingr_map_df[\"ingredient_id\"].max()\n",
    "recipe_ingredients_df.info()"
   ]
  },
  {
   "cell_type": "code",
   "execution_count": 16,
   "id": "3a38bdd3",
   "metadata": {},
   "outputs": [],
   "source": [
    "recipe_ingredients_df.to_sql(name=\"RecipeIngredient\", con=conn, if_exists=\"append\", index=False,)"
   ]
  },
  {
   "cell_type": "code",
   "execution_count": 17,
   "id": "72af5c5a",
   "metadata": {},
   "outputs": [
    {
     "name": "stdout",
     "output_type": "stream",
     "text": [
      "<class 'pandas.core.frame.DataFrame'>\n",
      "RangeIndex: 174305 entries, 0 to 174304\n",
      "Data columns (total 5 columns):\n",
      " #   Column            Non-Null Count   Dtype \n",
      "---  ------            --------------   ----- \n",
      " 0   user_id           174305 non-null  int64 \n",
      " 1   recipe_id         174305 non-null  int64 \n",
      " 2   interaction_date  174305 non-null  object\n",
      " 3   rating            174305 non-null  int64 \n",
      " 4   review            174288 non-null  object\n",
      "dtypes: int64(3), object(2)\n",
      "memory usage: 6.6+ MB\n"
     ]
    }
   ],
   "source": [
    "interactions_df = pd.read_csv(\"interactions_df.csv\")\n",
    "interactions_df.info()"
   ]
  },
  {
   "cell_type": "code",
   "execution_count": 18,
   "id": "92146bd0",
   "metadata": {},
   "outputs": [
    {
     "name": "stdout",
     "output_type": "stream",
     "text": [
      "<class 'pandas.core.frame.DataFrame'>\n",
      "Int64Index: 172808 entries, 0 to 174304\n",
      "Data columns (total 5 columns):\n",
      " #   Column            Non-Null Count   Dtype \n",
      "---  ------            --------------   ----- \n",
      " 0   user_id           172808 non-null  int64 \n",
      " 1   recipe_id         172808 non-null  int64 \n",
      " 2   interaction_date  172808 non-null  object\n",
      " 3   rating            172808 non-null  int64 \n",
      " 4   review            172791 non-null  object\n",
      "dtypes: int64(3), object(2)\n",
      "memory usage: 7.9+ MB\n"
     ]
    }
   ],
   "source": [
    "interactions_df.drop_duplicates(subset=[\"user_id\", \"recipe_id\"]).info()"
   ]
  },
  {
   "cell_type": "code",
   "execution_count": 19,
   "id": "627c49cf",
   "metadata": {},
   "outputs": [],
   "source": [
    "interactions_df = interactions_df.drop_duplicates(subset=[\"user_id\", \"recipe_id\"])"
   ]
  },
  {
   "cell_type": "code",
   "execution_count": 20,
   "id": "a54d43f7",
   "metadata": {},
   "outputs": [],
   "source": [
    "interactions_df.to_sql(name=\"Interaction\", con=conn, if_exists=\"append\", index=False,)"
   ]
  },
  {
   "cell_type": "code",
   "execution_count": 24,
   "id": "0e284c93",
   "metadata": {},
   "outputs": [
    {
     "data": {
      "text/html": [
       "<div>\n",
       "<style scoped>\n",
       "    .dataframe tbody tr th:only-of-type {\n",
       "        vertical-align: middle;\n",
       "    }\n",
       "\n",
       "    .dataframe tbody tr th {\n",
       "        vertical-align: top;\n",
       "    }\n",
       "\n",
       "    .dataframe thead th {\n",
       "        text-align: right;\n",
       "    }\n",
       "</style>\n",
       "<table border=\"1\" class=\"dataframe\">\n",
       "  <thead>\n",
       "    <tr style=\"text-align: right;\">\n",
       "      <th></th>\n",
       "      <th>recipe_id</th>\n",
       "      <th>tag_id</th>\n",
       "    </tr>\n",
       "  </thead>\n",
       "  <tbody>\n",
       "    <tr>\n",
       "      <th>0</th>\n",
       "      <td>137739</td>\n",
       "      <td>257</td>\n",
       "    </tr>\n",
       "    <tr>\n",
       "      <th>1</th>\n",
       "      <td>137739</td>\n",
       "      <td>166</td>\n",
       "    </tr>\n",
       "    <tr>\n",
       "      <th>2</th>\n",
       "      <td>137739</td>\n",
       "      <td>321</td>\n",
       "    </tr>\n",
       "    <tr>\n",
       "      <th>3</th>\n",
       "      <td>137739</td>\n",
       "      <td>242</td>\n",
       "    </tr>\n",
       "    <tr>\n",
       "      <th>4</th>\n",
       "      <td>137739</td>\n",
       "      <td>514</td>\n",
       "    </tr>\n",
       "  </tbody>\n",
       "</table>\n",
       "</div>"
      ],
      "text/plain": [
       "   recipe_id  tag_id\n",
       "0     137739     257\n",
       "1     137739     166\n",
       "2     137739     321\n",
       "3     137739     242\n",
       "4     137739     514"
      ]
     },
     "execution_count": 24,
     "metadata": {},
     "output_type": "execute_result"
    }
   ],
   "source": [
    "recipe_tags_df = pd.read_csv(\"recipe_tags.csv\")\n",
    "recipe_tags_df.head()"
   ]
  },
  {
   "cell_type": "code",
   "execution_count": 25,
   "id": "a963b38a",
   "metadata": {},
   "outputs": [],
   "source": [
    "recipe_tags_df.to_sql(name=\"RecipeTag\", con=conn, if_exists=\"append\", index=False,)"
   ]
  },
  {
   "cell_type": "code",
   "execution_count": null,
   "id": "805c7fd3",
   "metadata": {},
   "outputs": [],
   "source": [
    "# KEEP iloc[292740] for recipe_ingredients_df in mind\n",
    "recipe_ingredients_df.iloc[292740]"
   ]
  },
  {
   "cell_type": "code",
   "execution_count": null,
   "id": "23394778",
   "metadata": {},
   "outputs": [],
   "source": [
    "ingr_map_df[ingr_map_df[\"ingredient_id\"] == 0]"
   ]
  }
 ],
 "metadata": {
  "kernelspec": {
   "display_name": "Python 3",
   "language": "python",
   "name": "python3"
  },
  "language_info": {
   "codemirror_mode": {
    "name": "ipython",
    "version": 3
   },
   "file_extension": ".py",
   "mimetype": "text/x-python",
   "name": "python",
   "nbconvert_exporter": "python",
   "pygments_lexer": "ipython3",
   "version": "3.7.10"
  }
 },
 "nbformat": 4,
 "nbformat_minor": 5
}
