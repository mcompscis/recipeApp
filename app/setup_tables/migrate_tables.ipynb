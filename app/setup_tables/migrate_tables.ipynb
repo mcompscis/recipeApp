{
 "cells": [
  {
   "cell_type": "code",
   "execution_count": 14,
   "id": "capital-cincinnati",
   "metadata": {},
   "outputs": [],
   "source": [
    "import pandas as pd\n",
    "import numpy as np\n",
    "from mysql.connector import connect\n",
    "import json\n",
    "from os import path\n",
    "from utils import get_db_creds\n",
    "import names\n",
    "import sqlalchemy\n",
    "from concurrent import futures"
   ]
  },
  {
   "cell_type": "code",
   "execution_count": 2,
   "id": "cloudy-bernard",
   "metadata": {},
   "outputs": [],
   "source": [
    "db_creds = get_db_creds()\n",
    "connection = connect(**db_creds)"
   ]
  },
  {
   "cell_type": "code",
   "execution_count": null,
   "id": "dadb967e",
   "metadata": {},
   "outputs": [],
   "source": []
  },
  {
   "cell_type": "code",
   "execution_count": 3,
   "id": "25de80b0",
   "metadata": {},
   "outputs": [
    {
     "name": "stdout",
     "output_type": "stream",
     "text": [
      "ingr_map.pkl\t\tinteractions_validation.csv  RAW_interactions.csv\r\n",
      "interactions_test.csv\tPP_recipes.csv\t\t     RAW_recipes.csv\r\n",
      "interactions_train.csv\tPP_users.csv\r\n"
     ]
    }
   ],
   "source": [
    "!ls food_data/"
   ]
  },
  {
   "cell_type": "code",
   "execution_count": 4,
   "id": "b2850efd",
   "metadata": {},
   "outputs": [],
   "source": [
    "recipe_df = pd.read_csv(\"raw_178k_recipes_with_scraped_measurements.csv\")"
   ]
  },
  {
   "cell_type": "code",
   "execution_count": 5,
   "id": "5524810c",
   "metadata": {},
   "outputs": [],
   "source": [
    "user_df = pd.read_csv(\"food_data/PP_users.csv\")\n",
    "raw_interactions_df = pd.read_csv(\"food_data/RAW_interactions.csv\")"
   ]
  },
  {
   "cell_type": "code",
   "execution_count": 6,
   "id": "d385234e",
   "metadata": {},
   "outputs": [
    {
     "data": {
      "text/html": [
       "<div>\n",
       "<style scoped>\n",
       "    .dataframe tbody tr th:only-of-type {\n",
       "        vertical-align: middle;\n",
       "    }\n",
       "\n",
       "    .dataframe tbody tr th {\n",
       "        vertical-align: top;\n",
       "    }\n",
       "\n",
       "    .dataframe thead th {\n",
       "        text-align: right;\n",
       "    }\n",
       "</style>\n",
       "<table border=\"1\" class=\"dataframe\">\n",
       "  <thead>\n",
       "    <tr style=\"text-align: right;\">\n",
       "      <th></th>\n",
       "      <th>u</th>\n",
       "      <th>techniques</th>\n",
       "      <th>items</th>\n",
       "      <th>n_items</th>\n",
       "      <th>ratings</th>\n",
       "      <th>n_ratings</th>\n",
       "    </tr>\n",
       "  </thead>\n",
       "  <tbody>\n",
       "    <tr>\n",
       "      <th>0</th>\n",
       "      <td>0</td>\n",
       "      <td>[8, 0, 0, 5, 6, 0, 0, 1, 0, 9, 1, 0, 0, 0, 1, ...</td>\n",
       "      <td>[1118, 27680, 32541, 137353, 16428, 28815, 658...</td>\n",
       "      <td>31</td>\n",
       "      <td>[5.0, 5.0, 5.0, 5.0, 5.0, 5.0, 5.0, 4.0, 4.0, ...</td>\n",
       "      <td>31</td>\n",
       "    </tr>\n",
       "    <tr>\n",
       "      <th>1</th>\n",
       "      <td>1</td>\n",
       "      <td>[11, 0, 0, 2, 12, 0, 0, 0, 0, 14, 5, 0, 0, 0, ...</td>\n",
       "      <td>[122140, 77036, 156817, 76957, 68818, 155600, ...</td>\n",
       "      <td>39</td>\n",
       "      <td>[5.0, 5.0, 5.0, 5.0, 5.0, 5.0, 5.0, 5.0, 5.0, ...</td>\n",
       "      <td>39</td>\n",
       "    </tr>\n",
       "    <tr>\n",
       "      <th>2</th>\n",
       "      <td>2</td>\n",
       "      <td>[13, 0, 0, 7, 5, 0, 1, 2, 1, 11, 0, 1, 0, 0, 1...</td>\n",
       "      <td>[168054, 87218, 35731, 1, 20475, 9039, 124834,...</td>\n",
       "      <td>27</td>\n",
       "      <td>[3.0, 4.0, 4.0, 4.0, 4.0, 4.0, 4.0, 4.0, 5.0, ...</td>\n",
       "      <td>27</td>\n",
       "    </tr>\n",
       "    <tr>\n",
       "      <th>3</th>\n",
       "      <td>3</td>\n",
       "      <td>[498, 13, 4, 218, 376, 3, 2, 33, 16, 591, 10, ...</td>\n",
       "      <td>[163193, 156352, 102888, 19914, 169438, 55772,...</td>\n",
       "      <td>1513</td>\n",
       "      <td>[5.0, 5.0, 5.0, 5.0, 4.0, 4.0, 5.0, 5.0, 5.0, ...</td>\n",
       "      <td>1513</td>\n",
       "    </tr>\n",
       "    <tr>\n",
       "      <th>4</th>\n",
       "      <td>4</td>\n",
       "      <td>[161, 1, 1, 86, 93, 0, 0, 11, 2, 141, 0, 16, 0...</td>\n",
       "      <td>[72857, 38652, 160427, 55772, 119999, 141777, ...</td>\n",
       "      <td>376</td>\n",
       "      <td>[5.0, 5.0, 5.0, 5.0, 4.0, 4.0, 5.0, 4.0, 5.0, ...</td>\n",
       "      <td>376</td>\n",
       "    </tr>\n",
       "  </tbody>\n",
       "</table>\n",
       "</div>"
      ],
      "text/plain": [
       "   u                                         techniques  \\\n",
       "0  0  [8, 0, 0, 5, 6, 0, 0, 1, 0, 9, 1, 0, 0, 0, 1, ...   \n",
       "1  1  [11, 0, 0, 2, 12, 0, 0, 0, 0, 14, 5, 0, 0, 0, ...   \n",
       "2  2  [13, 0, 0, 7, 5, 0, 1, 2, 1, 11, 0, 1, 0, 0, 1...   \n",
       "3  3  [498, 13, 4, 218, 376, 3, 2, 33, 16, 591, 10, ...   \n",
       "4  4  [161, 1, 1, 86, 93, 0, 0, 11, 2, 141, 0, 16, 0...   \n",
       "\n",
       "                                               items  n_items  \\\n",
       "0  [1118, 27680, 32541, 137353, 16428, 28815, 658...       31   \n",
       "1  [122140, 77036, 156817, 76957, 68818, 155600, ...       39   \n",
       "2  [168054, 87218, 35731, 1, 20475, 9039, 124834,...       27   \n",
       "3  [163193, 156352, 102888, 19914, 169438, 55772,...     1513   \n",
       "4  [72857, 38652, 160427, 55772, 119999, 141777, ...      376   \n",
       "\n",
       "                                             ratings  n_ratings  \n",
       "0  [5.0, 5.0, 5.0, 5.0, 5.0, 5.0, 5.0, 4.0, 4.0, ...         31  \n",
       "1  [5.0, 5.0, 5.0, 5.0, 5.0, 5.0, 5.0, 5.0, 5.0, ...         39  \n",
       "2  [3.0, 4.0, 4.0, 4.0, 4.0, 4.0, 4.0, 4.0, 5.0, ...         27  \n",
       "3  [5.0, 5.0, 5.0, 5.0, 4.0, 4.0, 5.0, 5.0, 5.0, ...       1513  \n",
       "4  [5.0, 5.0, 5.0, 5.0, 4.0, 4.0, 5.0, 4.0, 5.0, ...        376  "
      ]
     },
     "execution_count": 6,
     "metadata": {},
     "output_type": "execute_result"
    }
   ],
   "source": [
    "user_df.head()"
   ]
  },
  {
   "cell_type": "code",
   "execution_count": 7,
   "id": "d37bcb7a",
   "metadata": {},
   "outputs": [
    {
     "data": {
      "text/html": [
       "<div>\n",
       "<style scoped>\n",
       "    .dataframe tbody tr th:only-of-type {\n",
       "        vertical-align: middle;\n",
       "    }\n",
       "\n",
       "    .dataframe tbody tr th {\n",
       "        vertical-align: top;\n",
       "    }\n",
       "\n",
       "    .dataframe thead th {\n",
       "        text-align: right;\n",
       "    }\n",
       "</style>\n",
       "<table border=\"1\" class=\"dataframe\">\n",
       "  <thead>\n",
       "    <tr style=\"text-align: right;\">\n",
       "      <th></th>\n",
       "      <th>name</th>\n",
       "      <th>id</th>\n",
       "      <th>minutes</th>\n",
       "      <th>contributor_id</th>\n",
       "      <th>submitted</th>\n",
       "      <th>tags</th>\n",
       "      <th>nutrition</th>\n",
       "      <th>n_steps</th>\n",
       "      <th>steps</th>\n",
       "      <th>description</th>\n",
       "      <th>ingredients</th>\n",
       "      <th>n_ingredients</th>\n",
       "      <th>food_recipe_url</th>\n",
       "      <th>quantities</th>\n",
       "      <th>measurement_units</th>\n",
       "    </tr>\n",
       "  </thead>\n",
       "  <tbody>\n",
       "    <tr>\n",
       "      <th>0</th>\n",
       "      <td>arriba   baked winter squash mexican style</td>\n",
       "      <td>137739</td>\n",
       "      <td>55</td>\n",
       "      <td>47892</td>\n",
       "      <td>2005-09-16</td>\n",
       "      <td>['60-minutes-or-less', 'time-to-make', 'course...</td>\n",
       "      <td>[51.5, 0.0, 13.0, 0.0, 2.0, 0.0, 4.0]</td>\n",
       "      <td>11</td>\n",
       "      <td>['make a choice and proceed with recipe', 'dep...</td>\n",
       "      <td>autumn is my favorite time of year to cook! th...</td>\n",
       "      <td>['winter squash', 'mexican seasoning', 'mixed ...</td>\n",
       "      <td>7</td>\n",
       "      <td>https://www.food.com/recipe/arriba---baked-win...</td>\n",
       "      <td>['1', '1 -2', '1 -2', '', '', '', '']</td>\n",
       "      <td>['lb', 'teaspoon', 'teaspoon', '', '', '', '']</td>\n",
       "    </tr>\n",
       "    <tr>\n",
       "      <th>1</th>\n",
       "      <td>a bit different  breakfast pizza</td>\n",
       "      <td>31490</td>\n",
       "      <td>30</td>\n",
       "      <td>26278</td>\n",
       "      <td>2002-06-17</td>\n",
       "      <td>['30-minutes-or-less', 'time-to-make', 'course...</td>\n",
       "      <td>[173.4, 18.0, 0.0, 17.0, 22.0, 35.0, 1.0]</td>\n",
       "      <td>9</td>\n",
       "      <td>['preheat oven to 425 degrees f', 'press dough...</td>\n",
       "      <td>this recipe calls for the crust to be prebaked...</td>\n",
       "      <td>['prepared pizza crust', 'sausage patty', 'egg...</td>\n",
       "      <td>6</td>\n",
       "      <td>https://www.food.com/recipe/a-bit-different--b...</td>\n",
       "      <td>['1', '1', '3', '1⁄2', '', '2']</td>\n",
       "      <td>['(10 ounce) can prepared pizza crust (or use ...</td>\n",
       "    </tr>\n",
       "    <tr>\n",
       "      <th>2</th>\n",
       "      <td>alouette  potatoes</td>\n",
       "      <td>59389</td>\n",
       "      <td>45</td>\n",
       "      <td>68585</td>\n",
       "      <td>2003-04-14</td>\n",
       "      <td>['60-minutes-or-less', 'time-to-make', 'course...</td>\n",
       "      <td>[368.1, 17.0, 10.0, 2.0, 14.0, 8.0, 20.0]</td>\n",
       "      <td>11</td>\n",
       "      <td>['place potatoes in a large pot of lightly sal...</td>\n",
       "      <td>this is a super easy, great tasting, make ahea...</td>\n",
       "      <td>['spreadable cheese with garlic and herbs', 'n...</td>\n",
       "      <td>11</td>\n",
       "      <td>https://www.food.com/recipe/alouette--potatoes...</td>\n",
       "      <td>['2', '12', '2', '2', '1', '5', '2', '1⁄8', '1...</td>\n",
       "      <td>['(4 ounce) packages', 'large', 'shallots', 't...</td>\n",
       "    </tr>\n",
       "    <tr>\n",
       "      <th>3</th>\n",
       "      <td>apple a day  milk shake</td>\n",
       "      <td>5289</td>\n",
       "      <td>0</td>\n",
       "      <td>1533</td>\n",
       "      <td>1999-12-06</td>\n",
       "      <td>['15-minutes-or-less', 'time-to-make', 'course...</td>\n",
       "      <td>[160.2, 10.0, 55.0, 3.0, 9.0, 20.0, 7.0]</td>\n",
       "      <td>4</td>\n",
       "      <td>['combine ingredients in blender', 'cover and ...</td>\n",
       "      <td>NaN</td>\n",
       "      <td>['milk', 'vanilla ice cream', 'frozen apple ju...</td>\n",
       "      <td>4</td>\n",
       "      <td>https://www.food.com/recipe/apple-a-day--milk-...</td>\n",
       "      <td>['1', '1', '2', '1⁄2']</td>\n",
       "      <td>['cup', 'scoop', 'tablespoons', 'apple']</td>\n",
       "    </tr>\n",
       "    <tr>\n",
       "      <th>4</th>\n",
       "      <td>aww  marinated olives</td>\n",
       "      <td>25274</td>\n",
       "      <td>15</td>\n",
       "      <td>21730</td>\n",
       "      <td>2002-04-14</td>\n",
       "      <td>['15-minutes-or-less', 'time-to-make', 'course...</td>\n",
       "      <td>[380.7, 53.0, 7.0, 24.0, 6.0, 24.0, 6.0]</td>\n",
       "      <td>4</td>\n",
       "      <td>['toast the fennel seeds and lightly crush the...</td>\n",
       "      <td>my italian mil was thoroughly impressed by my ...</td>\n",
       "      <td>['fennel seeds', 'green olives', 'ripe olives'...</td>\n",
       "      <td>9</td>\n",
       "      <td>https://www.food.com/recipe/aww--marinated-oli...</td>\n",
       "      <td>['1 1⁄2', '1', '1', '1', '1', '1', '1', '1', '4']</td>\n",
       "      <td>['teaspoons', 'cup', 'cup', 'clove', 'teaspoon...</td>\n",
       "    </tr>\n",
       "  </tbody>\n",
       "</table>\n",
       "</div>"
      ],
      "text/plain": [
       "                                         name      id  minutes  \\\n",
       "0  arriba   baked winter squash mexican style  137739       55   \n",
       "1            a bit different  breakfast pizza   31490       30   \n",
       "2                          alouette  potatoes   59389       45   \n",
       "3                     apple a day  milk shake    5289        0   \n",
       "4                       aww  marinated olives   25274       15   \n",
       "\n",
       "   contributor_id   submitted  \\\n",
       "0           47892  2005-09-16   \n",
       "1           26278  2002-06-17   \n",
       "2           68585  2003-04-14   \n",
       "3            1533  1999-12-06   \n",
       "4           21730  2002-04-14   \n",
       "\n",
       "                                                tags  \\\n",
       "0  ['60-minutes-or-less', 'time-to-make', 'course...   \n",
       "1  ['30-minutes-or-less', 'time-to-make', 'course...   \n",
       "2  ['60-minutes-or-less', 'time-to-make', 'course...   \n",
       "3  ['15-minutes-or-less', 'time-to-make', 'course...   \n",
       "4  ['15-minutes-or-less', 'time-to-make', 'course...   \n",
       "\n",
       "                                   nutrition  n_steps  \\\n",
       "0      [51.5, 0.0, 13.0, 0.0, 2.0, 0.0, 4.0]       11   \n",
       "1  [173.4, 18.0, 0.0, 17.0, 22.0, 35.0, 1.0]        9   \n",
       "2  [368.1, 17.0, 10.0, 2.0, 14.0, 8.0, 20.0]       11   \n",
       "3   [160.2, 10.0, 55.0, 3.0, 9.0, 20.0, 7.0]        4   \n",
       "4   [380.7, 53.0, 7.0, 24.0, 6.0, 24.0, 6.0]        4   \n",
       "\n",
       "                                               steps  \\\n",
       "0  ['make a choice and proceed with recipe', 'dep...   \n",
       "1  ['preheat oven to 425 degrees f', 'press dough...   \n",
       "2  ['place potatoes in a large pot of lightly sal...   \n",
       "3  ['combine ingredients in blender', 'cover and ...   \n",
       "4  ['toast the fennel seeds and lightly crush the...   \n",
       "\n",
       "                                         description  \\\n",
       "0  autumn is my favorite time of year to cook! th...   \n",
       "1  this recipe calls for the crust to be prebaked...   \n",
       "2  this is a super easy, great tasting, make ahea...   \n",
       "3                                                NaN   \n",
       "4  my italian mil was thoroughly impressed by my ...   \n",
       "\n",
       "                                         ingredients  n_ingredients  \\\n",
       "0  ['winter squash', 'mexican seasoning', 'mixed ...              7   \n",
       "1  ['prepared pizza crust', 'sausage patty', 'egg...              6   \n",
       "2  ['spreadable cheese with garlic and herbs', 'n...             11   \n",
       "3  ['milk', 'vanilla ice cream', 'frozen apple ju...              4   \n",
       "4  ['fennel seeds', 'green olives', 'ripe olives'...              9   \n",
       "\n",
       "                                     food_recipe_url  \\\n",
       "0  https://www.food.com/recipe/arriba---baked-win...   \n",
       "1  https://www.food.com/recipe/a-bit-different--b...   \n",
       "2  https://www.food.com/recipe/alouette--potatoes...   \n",
       "3  https://www.food.com/recipe/apple-a-day--milk-...   \n",
       "4  https://www.food.com/recipe/aww--marinated-oli...   \n",
       "\n",
       "                                          quantities  \\\n",
       "0              ['1', '1 -2', '1 -2', '', '', '', '']   \n",
       "1                    ['1', '1', '3', '1⁄2', '', '2']   \n",
       "2  ['2', '12', '2', '2', '1', '5', '2', '1⁄8', '1...   \n",
       "3                             ['1', '1', '2', '1⁄2']   \n",
       "4  ['1 1⁄2', '1', '1', '1', '1', '1', '1', '1', '4']   \n",
       "\n",
       "                                   measurement_units  \n",
       "0     ['lb', 'teaspoon', 'teaspoon', '', '', '', '']  \n",
       "1  ['(10 ounce) can prepared pizza crust (or use ...  \n",
       "2  ['(4 ounce) packages', 'large', 'shallots', 't...  \n",
       "3           ['cup', 'scoop', 'tablespoons', 'apple']  \n",
       "4  ['teaspoons', 'cup', 'cup', 'clove', 'teaspoon...  "
      ]
     },
     "execution_count": 7,
     "metadata": {},
     "output_type": "execute_result"
    }
   ],
   "source": [
    "recipe_df.head()"
   ]
  },
  {
   "cell_type": "code",
   "execution_count": 8,
   "id": "8c3bd9a1",
   "metadata": {},
   "outputs": [],
   "source": [
    "raw_interactions_df = raw_interactions_df[raw_interactions_df[\"recipe_id\"].isin(recipe_df[\"id\"])]\n",
    "raw_interactions_df = raw_interactions_df.sample(random_state=0, n=200000)"
   ]
  },
  {
   "cell_type": "code",
   "execution_count": 9,
   "id": "378b2c7f",
   "metadata": {
    "scrolled": false
   },
   "outputs": [
    {
     "data": {
      "text/html": [
       "<div>\n",
       "<style scoped>\n",
       "    .dataframe tbody tr th:only-of-type {\n",
       "        vertical-align: middle;\n",
       "    }\n",
       "\n",
       "    .dataframe tbody tr th {\n",
       "        vertical-align: top;\n",
       "    }\n",
       "\n",
       "    .dataframe thead th {\n",
       "        text-align: right;\n",
       "    }\n",
       "</style>\n",
       "<table border=\"1\" class=\"dataframe\">\n",
       "  <thead>\n",
       "    <tr style=\"text-align: right;\">\n",
       "      <th></th>\n",
       "      <th>user_id</th>\n",
       "      <th>recipe_id</th>\n",
       "      <th>date</th>\n",
       "      <th>rating</th>\n",
       "      <th>review</th>\n",
       "    </tr>\n",
       "  </thead>\n",
       "  <tbody>\n",
       "    <tr>\n",
       "      <th>1055849</th>\n",
       "      <td>83491</td>\n",
       "      <td>52469</td>\n",
       "      <td>2003-04-24</td>\n",
       "      <td>5</td>\n",
       "      <td>It's GENIUS! I love this recipe- thank you so ...</td>\n",
       "    </tr>\n",
       "    <tr>\n",
       "      <th>784868</th>\n",
       "      <td>126440</td>\n",
       "      <td>241877</td>\n",
       "      <td>2009-02-20</td>\n",
       "      <td>4</td>\n",
       "      <td>Good side dish.  I only made half a recipe and...</td>\n",
       "    </tr>\n",
       "    <tr>\n",
       "      <th>155101</th>\n",
       "      <td>182304</td>\n",
       "      <td>373493</td>\n",
       "      <td>2012-07-07</td>\n",
       "      <td>5</td>\n",
       "      <td>Delicious! I did eyeball the honeydew (used a ...</td>\n",
       "    </tr>\n",
       "    <tr>\n",
       "      <th>776190</th>\n",
       "      <td>113509</td>\n",
       "      <td>307866</td>\n",
       "      <td>2011-09-06</td>\n",
       "      <td>5</td>\n",
       "      <td>Wow, this was such a great recipe. I wasn't su...</td>\n",
       "    </tr>\n",
       "    <tr>\n",
       "      <th>539341</th>\n",
       "      <td>352597</td>\n",
       "      <td>205407</td>\n",
       "      <td>2007-01-16</td>\n",
       "      <td>5</td>\n",
       "      <td>It was both simple and delicious. Although I a...</td>\n",
       "    </tr>\n",
       "  </tbody>\n",
       "</table>\n",
       "</div>"
      ],
      "text/plain": [
       "         user_id  recipe_id        date  rating  \\\n",
       "1055849    83491      52469  2003-04-24       5   \n",
       "784868    126440     241877  2009-02-20       4   \n",
       "155101    182304     373493  2012-07-07       5   \n",
       "776190    113509     307866  2011-09-06       5   \n",
       "539341    352597     205407  2007-01-16       5   \n",
       "\n",
       "                                                    review  \n",
       "1055849  It's GENIUS! I love this recipe- thank you so ...  \n",
       "784868   Good side dish.  I only made half a recipe and...  \n",
       "155101   Delicious! I did eyeball the honeydew (used a ...  \n",
       "776190   Wow, this was such a great recipe. I wasn't su...  \n",
       "539341   It was both simple and delicious. Although I a...  "
      ]
     },
     "execution_count": 9,
     "metadata": {},
     "output_type": "execute_result"
    }
   ],
   "source": [
    "raw_interactions_df.head()"
   ]
  },
  {
   "cell_type": "code",
   "execution_count": 10,
   "id": "19b5c114",
   "metadata": {},
   "outputs": [],
   "source": [
    "codes, uniques = pd.factorize(recipe_df[\"contributor_id\"])\n",
    "codes += 1\n",
    "recipe_df[\"contributor_id\"] = codes"
   ]
  },
  {
   "cell_type": "code",
   "execution_count": 11,
   "id": "06aeb902",
   "metadata": {},
   "outputs": [
    {
     "data": {
      "text/plain": [
       "22218"
      ]
     },
     "execution_count": 11,
     "metadata": {},
     "output_type": "execute_result"
    }
   ],
   "source": [
    "max(codes)"
   ]
  },
  {
   "cell_type": "code",
   "execution_count": 12,
   "id": "e78424fc",
   "metadata": {},
   "outputs": [],
   "source": [
    "raw_interactions_df[\"user_id\"] = np.random.choice(recipe_df[\"contributor_id\"], 200000)"
   ]
  },
  {
   "cell_type": "code",
   "execution_count": 18,
   "id": "e237d4c7",
   "metadata": {},
   "outputs": [],
   "source": [
    "def generate_name(i):\n",
    "    return names.get_full_name()\n",
    "MAX_PROCESSES = 30\n",
    "with futures.ProcessPoolExecutor(max_workers=MAX_PROCESSES) as executor:\n",
    "    user_names = list(executor.map(names.get_full_name, [i for i in range(max(codes))]))"
   ]
  },
  {
   "cell_type": "code",
   "execution_count": 21,
   "id": "fcda92fc",
   "metadata": {},
   "outputs": [
    {
     "data": {
      "text/plain": [
       "dict_keys(['host', 'user', 'password', 'database'])"
      ]
     },
     "execution_count": 21,
     "metadata": {},
     "output_type": "execute_result"
    }
   ],
   "source": [
    "db_creds.keys()"
   ]
  },
  {
   "cell_type": "code",
   "execution_count": 22,
   "id": "c1f93c12",
   "metadata": {},
   "outputs": [],
   "source": [
    "users_df = pd.DataFrame({\"user_id\": sorted(np.unique(codes)), \"username\": user_names})\n",
    "users_df[\"hashed_password\"] = \"password\""
   ]
  },
  {
   "cell_type": "code",
   "execution_count": 23,
   "id": "572e7d3f",
   "metadata": {},
   "outputs": [],
   "source": [
    "conn = sqlalchemy.create_engine('mysql+mysqlconnector://{0}:{1}@{2}/{3}'\n",
    "            .format(db_creds[\"user\"], db_creds[\"password\"], db_creds[\"host\"], db_creds[\"database\"])).connect()"
   ]
  },
  {
   "cell_type": "code",
   "execution_count": 24,
   "id": "a95942dc",
   "metadata": {},
   "outputs": [],
   "source": [
    "users_df.to_sql(name=\"SampleUser\", con=conn, if_exists=\"append\", index=False,)"
   ]
  },
  {
   "cell_type": "code",
   "execution_count": 30,
   "id": "a4eb8dc0",
   "metadata": {},
   "outputs": [],
   "source": [
    "users_df.to_csv(\"users.csv\", index=False)"
   ]
  },
  {
   "cell_type": "code",
   "execution_count": 31,
   "id": "d7d5fbaa",
   "metadata": {},
   "outputs": [],
   "source": [
    "raw_interactions_df.to_csv(\"interactions_with_updated_users.csv\", index=False)"
   ]
  },
  {
   "cell_type": "code",
   "execution_count": 32,
   "id": "ccbb595b",
   "metadata": {},
   "outputs": [],
   "source": [
    "recipe_df.to_csv(\"recipe_df_178k_with_updated_users.csv\", index=False)"
   ]
  },
  {
   "cell_type": "code",
   "execution_count": null,
   "id": "13dfaab7",
   "metadata": {},
   "outputs": [],
   "source": []
  }
 ],
 "metadata": {
  "kernelspec": {
   "display_name": "Python 3",
   "language": "python",
   "name": "python3"
  },
  "language_info": {
   "codemirror_mode": {
    "name": "ipython",
    "version": 3
   },
   "file_extension": ".py",
   "mimetype": "text/x-python",
   "name": "python",
   "nbconvert_exporter": "python",
   "pygments_lexer": "ipython3",
   "version": "3.7.10"
  }
 },
 "nbformat": 4,
 "nbformat_minor": 5
}
