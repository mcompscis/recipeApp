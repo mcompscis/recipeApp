{
 "cells": [
  {
   "cell_type": "code",
   "execution_count": 1,
   "id": "5342cac6",
   "metadata": {},
   "outputs": [],
   "source": [
    "import pandas as pd\n",
    "import numpy as np\n",
    "import pickle\n",
    "import json\n",
    "\n",
    "# TODO: one off errors for pushed tables since we incremented index only in the map"
   ]
  },
  {
   "cell_type": "code",
   "execution_count": 2,
   "id": "64b213fa",
   "metadata": {},
   "outputs": [],
   "source": [
    "with open(\"scraped_img_urls.pkl\", \"rb\") as f:\n",
    "    scraped_img_urls = pickle.load(f)\n",
    "with open(\"cuisine_lst.pkl\", \"rb\") as f:\n",
    "    cuisine_lst = pickle.load(f)\n",
    "    cuisine_lst = [cuisine.lower() for cuisine in cuisine_lst]\n",
    "    cuisine_map = {cuisine: i+1 for i, cuisine in enumerate(cuisine_lst)}\n",
    "with open(\"food_data/ingr_map.pkl\", \"rb\") as f:\n",
    "    ingr_map_df = pickle.load(f)"
   ]
  },
  {
   "cell_type": "code",
   "execution_count": 3,
   "id": "ceaef760",
   "metadata": {},
   "outputs": [],
   "source": [
    "recipe_df = pd.read_csv(\"recipe_df_178k_with_updated_users.csv\", \n",
    "                        converters={\"ingredients\": eval, \"quantities\": eval, \n",
    "                                    \"measurement_units\": eval, \"tags\": eval,\n",
    "                                   \"nutrition\": eval, \"steps\": eval, })\n",
    "user_df = pd.read_csv(\"users.csv\")\n",
    "raw_interactions_df = pd.read_csv(\"interactions_with_updated_users.csv\")\n",
    "pp_recipe_df = pd.read_csv(\"food_data/PP_recipes.csv\", converters={\"ingredient_ids\": eval})"
   ]
  },
  {
   "cell_type": "code",
   "execution_count": 4,
   "id": "32dcf2a0",
   "metadata": {},
   "outputs": [],
   "source": [
    "recipe_df[\"calories\"] = recipe_df[\"nutrition\"].str[0]"
   ]
  },
  {
   "cell_type": "code",
   "execution_count": 5,
   "id": "21ec65db",
   "metadata": {},
   "outputs": [
    {
     "name": "stdout",
     "output_type": "stream",
     "text": [
      "<class 'pandas.core.frame.DataFrame'>\n",
      "RangeIndex: 178265 entries, 0 to 178264\n",
      "Data columns (total 16 columns):\n",
      " #   Column             Non-Null Count   Dtype  \n",
      "---  ------             --------------   -----  \n",
      " 0   name               178265 non-null  object \n",
      " 1   id                 178265 non-null  int64  \n",
      " 2   minutes            178265 non-null  int64  \n",
      " 3   contributor_id     178265 non-null  int64  \n",
      " 4   submitted          178265 non-null  object \n",
      " 5   tags               178265 non-null  object \n",
      " 6   nutrition          178265 non-null  object \n",
      " 7   n_steps            178265 non-null  int64  \n",
      " 8   steps              178265 non-null  object \n",
      " 9   description        174311 non-null  object \n",
      " 10  ingredients        178265 non-null  object \n",
      " 11  n_ingredients      178265 non-null  int64  \n",
      " 12  food_recipe_url    178265 non-null  object \n",
      " 13  quantities         178265 non-null  object \n",
      " 14  measurement_units  178265 non-null  object \n",
      " 15  calories           178265 non-null  float64\n",
      "dtypes: float64(1), int64(5), object(10)\n",
      "memory usage: 21.8+ MB\n"
     ]
    }
   ],
   "source": [
    "recipe_df.info()"
   ]
  },
  {
   "cell_type": "code",
   "execution_count": 6,
   "id": "023f9382",
   "metadata": {},
   "outputs": [
    {
     "data": {
      "text/plain": [
       "['winter squash',\n",
       " 'mexican seasoning',\n",
       " 'mixed spice',\n",
       " 'honey',\n",
       " 'butter',\n",
       " 'olive oil',\n",
       " 'salt']"
      ]
     },
     "metadata": {},
     "output_type": "display_data"
    },
    {
     "data": {
      "text/plain": [
       "['1', '1 -2', '1 -2', '', '', '', '']"
      ]
     },
     "metadata": {},
     "output_type": "display_data"
    },
    {
     "data": {
      "text/plain": [
       "['lb', 'teaspoon', 'teaspoon', '', '', '', '']"
      ]
     },
     "metadata": {},
     "output_type": "display_data"
    },
    {
     "data": {
      "text/plain": [
       "['60-minutes-or-less',\n",
       " 'time-to-make',\n",
       " 'course',\n",
       " 'main-ingredient',\n",
       " 'cuisine',\n",
       " 'preparation',\n",
       " 'occasion',\n",
       " 'north-american',\n",
       " 'side-dishes',\n",
       " 'vegetables',\n",
       " 'mexican',\n",
       " 'easy',\n",
       " 'fall',\n",
       " 'holiday-event',\n",
       " 'vegetarian',\n",
       " 'winter',\n",
       " 'dietary',\n",
       " 'christmas',\n",
       " 'seasonal',\n",
       " 'squash']"
      ]
     },
     "metadata": {},
     "output_type": "display_data"
    }
   ],
   "source": [
    "display(recipe_df.iloc[0].ingredients)\n",
    "display(recipe_df.iloc[0].quantities)\n",
    "display(recipe_df.iloc[0].measurement_units)\n",
    "display(recipe_df.iloc[0].tags)"
   ]
  },
  {
   "cell_type": "markdown",
   "id": "2cc54e6c",
   "metadata": {},
   "source": [
    "## Converting Strings to Numbers. Three Cases\n",
    "1. Fractions (\"1/3\", \"1/2\" --> 0.333, 0.5)\n",
    "2. Ranges (\"1 -2\" --> 1)\n",
    "3. Normal integers (\"1\", \"4\" --> 1, 4)\n",
    "4. Range with Fractions (\"1⁄4 - 1⁄2\" --> 1/4)"
   ]
  },
  {
   "cell_type": "code",
   "execution_count": 7,
   "id": "7b8ebc52",
   "metadata": {},
   "outputs": [],
   "source": [
    "def convert_to_float(frac_str):\n",
    "    if frac_str == \"\":\n",
    "        return np.nan\n",
    "    if \" \" in frac_str:\n",
    "        frac_str = frac_str.split(\" \")[0]\n",
    "    try:\n",
    "        return float(frac_str)\n",
    "    except ValueError:\n",
    "        if \"⁄\" in frac_str:\n",
    "            split_frac = frac_str.split(\"⁄\")\n",
    "            num, denom = split_frac[0], split_frac[1]\n",
    "            float_str = float(num) / float(denom)\n",
    "        return float_str"
   ]
  },
  {
   "cell_type": "code",
   "execution_count": 8,
   "id": "4ddf3084",
   "metadata": {},
   "outputs": [],
   "source": [
    "recipe_df[\"quantities\"] = recipe_df.quantities.map(lambda x: [convert_to_float(item) for item in x])\n",
    "recipe_df[\"measurement_units\"] = recipe_df[\"measurement_units\"].map(\n",
    "    lambda x: np.array([item if item != \"\" else np.nan for item in x], dtype=object)\n",
    ")"
   ]
  },
  {
   "cell_type": "code",
   "execution_count": 9,
   "id": "74f54aae",
   "metadata": {},
   "outputs": [
    {
     "data": {
      "text/plain": [
       "0    [60-minutes-or-less, time-to-make, course, mai...\n",
       "1    [30-minutes-or-less, time-to-make, course, mai...\n",
       "2    [60-minutes-or-less, time-to-make, course, mai...\n",
       "3    [15-minutes-or-less, time-to-make, course, mai...\n",
       "4    [15-minutes-or-less, time-to-make, course, mai...\n",
       "Name: tags, dtype: object"
      ]
     },
     "execution_count": 9,
     "metadata": {},
     "output_type": "execute_result"
    }
   ],
   "source": [
    "recipe_df[\"tags\"].head()"
   ]
  },
  {
   "cell_type": "code",
   "execution_count": 10,
   "id": "bfc90c3f",
   "metadata": {},
   "outputs": [],
   "source": [
    "def output_tag(tag_lst):\n",
    "    lst = [tag for tag in tag_lst for cuisine in cuisine_map if (cuisine in tag)]\n",
    "    if len(lst) == 0:\n",
    "        return \"global\"\n",
    "    return lst[0]"
   ]
  },
  {
   "cell_type": "code",
   "execution_count": 11,
   "id": "1df76836",
   "metadata": {},
   "outputs": [],
   "source": [
    "recipe_df[\"cuisine\"] = recipe_df.tags.map(output_tag)"
   ]
  },
  {
   "cell_type": "code",
   "execution_count": 12,
   "id": "9a785b53",
   "metadata": {},
   "outputs": [],
   "source": [
    "recipe_df[\"img_url\"] = scraped_img_urls"
   ]
  },
  {
   "cell_type": "code",
   "execution_count": 13,
   "id": "85ff3e03",
   "metadata": {},
   "outputs": [],
   "source": [
    "recipe_df[\"serves\"] = np.random.choice(np.arange(1, 5), size=recipe_df.shape[0])"
   ]
  },
  {
   "cell_type": "code",
   "execution_count": 14,
   "id": "53d4505a",
   "metadata": {},
   "outputs": [
    {
     "data": {
      "text/plain": [
       "Index(['name', 'id', 'minutes', 'contributor_id', 'submitted', 'tags',\n",
       "       'nutrition', 'n_steps', 'steps', 'description', 'ingredients',\n",
       "       'n_ingredients', 'food_recipe_url', 'quantities', 'measurement_units',\n",
       "       'calories', 'cuisine', 'img_url', 'serves'],\n",
       "      dtype='object')"
      ]
     },
     "execution_count": 14,
     "metadata": {},
     "output_type": "execute_result"
    }
   ],
   "source": [
    "recipe_df.columns"
   ]
  },
  {
   "cell_type": "code",
   "execution_count": 15,
   "id": "1bbb1b9c",
   "metadata": {},
   "outputs": [],
   "source": [
    "recipe_df = recipe_df.rename(columns={\"id\": \"recipe_id\", \"minutes\": \"time_to_prepare\", \n",
    "                          \"submitted\": \"date_submitted\", \"steps\": \"recipe_text\", \"name\": \"recipe_name\",\n",
    "                         \"contributor_id\": \"creator_id\"})"
   ]
  },
  {
   "cell_type": "code",
   "execution_count": 16,
   "id": "a152472b",
   "metadata": {},
   "outputs": [],
   "source": [
    "recipe_df[\"recipe_text\"] = recipe_df[\"recipe_text\"].map(lambda x: \". \".join([elem.capitalize() for elem in x]))"
   ]
  },
  {
   "cell_type": "code",
   "execution_count": 18,
   "id": "2cce4622",
   "metadata": {},
   "outputs": [],
   "source": [
    "unique_tags = set()\n",
    "for tags in recipe_df[\"tags\"].values:\n",
    "    for tag in tags:\n",
    "        unique_tags.add(tag)\n",
    "        \n",
    "tag_id_to_tag_map = {i: unique_tag for i, unique_tag in enumerate(unique_tags)}\n",
    "tag_to_tag_id_map = {unique_tag: i for i, unique_tag in enumerate(unique_tags)}"
   ]
  },
  {
   "cell_type": "code",
   "execution_count": 19,
   "id": "fa7dd76c",
   "metadata": {},
   "outputs": [],
   "source": [
    "cuisine_df = pd.DataFrame({\"cuisine_id\": np.arange(1, recipe_df[\"cuisine\"].unique().shape[0]+1), \n",
    "                           \"cuisine_name\": recipe_df[\"cuisine\"].unique()})"
   ]
  },
  {
   "cell_type": "code",
   "execution_count": 21,
   "id": "429a76a1",
   "metadata": {},
   "outputs": [
    {
     "data": {
      "text/html": [
       "<div>\n",
       "<style scoped>\n",
       "    .dataframe tbody tr th:only-of-type {\n",
       "        vertical-align: middle;\n",
       "    }\n",
       "\n",
       "    .dataframe tbody tr th {\n",
       "        vertical-align: top;\n",
       "    }\n",
       "\n",
       "    .dataframe thead th {\n",
       "        text-align: right;\n",
       "    }\n",
       "</style>\n",
       "<table border=\"1\" class=\"dataframe\">\n",
       "  <thead>\n",
       "    <tr style=\"text-align: right;\">\n",
       "      <th></th>\n",
       "      <th>cuisine_id</th>\n",
       "      <th>cuisine_name</th>\n",
       "    </tr>\n",
       "  </thead>\n",
       "  <tbody>\n",
       "    <tr>\n",
       "      <th>0</th>\n",
       "      <td>1</td>\n",
       "      <td>north-american</td>\n",
       "    </tr>\n",
       "    <tr>\n",
       "      <th>1</th>\n",
       "      <td>2</td>\n",
       "      <td>global</td>\n",
       "    </tr>\n",
       "    <tr>\n",
       "      <th>2</th>\n",
       "      <td>3</td>\n",
       "      <td>asian</td>\n",
       "    </tr>\n",
       "    <tr>\n",
       "      <th>3</th>\n",
       "      <td>4</td>\n",
       "      <td>german</td>\n",
       "    </tr>\n",
       "    <tr>\n",
       "      <th>4</th>\n",
       "      <td>5</td>\n",
       "      <td>italian</td>\n",
       "    </tr>\n",
       "  </tbody>\n",
       "</table>\n",
       "</div>"
      ],
      "text/plain": [
       "   cuisine_id    cuisine_name\n",
       "0           1  north-american\n",
       "1           2          global\n",
       "2           3           asian\n",
       "3           4          german\n",
       "4           5         italian"
      ]
     },
     "execution_count": 21,
     "metadata": {},
     "output_type": "execute_result"
    }
   ],
   "source": [
    "cuisine_df.head()"
   ]
  },
  {
   "cell_type": "code",
   "execution_count": 22,
   "id": "ae62aa38",
   "metadata": {},
   "outputs": [
    {
     "name": "stdout",
     "output_type": "stream",
     "text": [
      "<class 'pandas.core.frame.DataFrame'>\n",
      "Int64Index: 155751 entries, 0 to 178263\n",
      "Data columns (total 20 columns):\n",
      " #   Column             Non-Null Count   Dtype  \n",
      "---  ------             --------------   -----  \n",
      " 0   recipe_name        155751 non-null  object \n",
      " 1   recipe_id          155751 non-null  int64  \n",
      " 2   time_to_prepare    155751 non-null  int64  \n",
      " 3   creator_id         155751 non-null  int64  \n",
      " 4   date_submitted     155751 non-null  object \n",
      " 5   tags               155751 non-null  object \n",
      " 6   nutrition          155751 non-null  object \n",
      " 7   n_steps            155751 non-null  int64  \n",
      " 8   recipe_text        155751 non-null  object \n",
      " 9   description        152310 non-null  object \n",
      " 10  ingredients        155751 non-null  object \n",
      " 11  n_ingredients      155751 non-null  int64  \n",
      " 12  food_recipe_url    155751 non-null  object \n",
      " 13  quantities         155751 non-null  object \n",
      " 14  measurement_units  155751 non-null  object \n",
      " 15  calories           155751 non-null  float64\n",
      " 16  cuisine            155751 non-null  object \n",
      " 17  img_url            155751 non-null  object \n",
      " 18  serves             155751 non-null  int64  \n",
      " 19  ingredient_ids     155751 non-null  object \n",
      "dtypes: float64(1), int64(6), object(13)\n",
      "memory usage: 25.0+ MB\n"
     ]
    }
   ],
   "source": [
    "recipe_df = recipe_df.merge(pp_recipe_df, \n",
    "                left_on=\"recipe_id\",\n",
    "                            \n",
    "                right_on=\"id\")[recipe_df.columns.tolist() + [\"ingredient_ids\"]]\n",
    "# Sometimes, ingredient_ids doesn't equal quantities due to scraping, website and regex issues.\n",
    "# Discard those entries\n",
    "recipe_df = recipe_df[~recipe_df.index.isin(\n",
    "    recipe_df[recipe_df[\"ingredient_ids\"].str.len() != recipe_df[\"quantities\"].str.len()].index\n",
    ")]\n",
    "recipe_df.info()"
   ]
  },
  {
   "cell_type": "code",
   "execution_count": 23,
   "id": "c2573d59",
   "metadata": {},
   "outputs": [
    {
     "name": "stdout",
     "output_type": "stream",
     "text": [
      "<class 'pandas.core.frame.DataFrame'>\n",
      "Int64Index: 155751 entries, 0 to 155750\n",
      "Data columns (total 21 columns):\n",
      " #   Column             Non-Null Count   Dtype  \n",
      "---  ------             --------------   -----  \n",
      " 0   recipe_name        155751 non-null  object \n",
      " 1   recipe_id          155751 non-null  int64  \n",
      " 2   time_to_prepare    155751 non-null  int64  \n",
      " 3   creator_id         155751 non-null  int64  \n",
      " 4   date_submitted     155751 non-null  object \n",
      " 5   tags               155751 non-null  object \n",
      " 6   nutrition          155751 non-null  object \n",
      " 7   n_steps            155751 non-null  int64  \n",
      " 8   recipe_text        155751 non-null  object \n",
      " 9   description        152310 non-null  object \n",
      " 10  ingredients        155751 non-null  object \n",
      " 11  n_ingredients      155751 non-null  int64  \n",
      " 12  food_recipe_url    155751 non-null  object \n",
      " 13  quantities         155751 non-null  object \n",
      " 14  measurement_units  155751 non-null  object \n",
      " 15  calories           155751 non-null  float64\n",
      " 16  cuisine            155751 non-null  object \n",
      " 17  img_url            155751 non-null  object \n",
      " 18  serves             155751 non-null  int64  \n",
      " 19  ingredient_ids     155751 non-null  object \n",
      " 20  cuisine_id         155751 non-null  int64  \n",
      "dtypes: float64(1), int64(7), object(13)\n",
      "memory usage: 26.1+ MB\n"
     ]
    }
   ],
   "source": [
    "recipe_df = recipe_df.merge(cuisine_df, \n",
    "                left_on=\"cuisine\", \n",
    "                right_on=\"cuisine_name\")[recipe_df.columns.tolist() + [\"cuisine_id\"]]\n",
    "\n",
    "recipe_df.info()"
   ]
  },
  {
   "cell_type": "code",
   "execution_count": 24,
   "id": "6fe9c4a1",
   "metadata": {},
   "outputs": [],
   "source": [
    "pd.set_option('display.max_columns', None)"
   ]
  },
  {
   "cell_type": "code",
   "execution_count": 42,
   "id": "1a652efc",
   "metadata": {},
   "outputs": [],
   "source": [
    "def unnesting(df, explode):\n",
    "    idx = df.index.repeat(df[explode[0]].str.len())\n",
    "    df1 = pd.concat([\n",
    "        pd.DataFrame({x: np.concatenate(df[x].values)}) for x in explode], axis=1)\n",
    "    df1.index = idx\n",
    "\n",
    "    return df1.join(df.drop(explode, 1), how='left').reset_index(drop=True)"
   ]
  },
  {
   "cell_type": "code",
   "execution_count": 62,
   "id": "fea09d1a",
   "metadata": {},
   "outputs": [],
   "source": [
    "recipe_ingredients_df = unnesting(recipe_df, [\"ingredients\", \"ingredient_ids\", \"quantities\", \"measurement_units\"])"
   ]
  },
  {
   "cell_type": "code",
   "execution_count": 63,
   "id": "32e07004",
   "metadata": {},
   "outputs": [
    {
     "name": "stdout",
     "output_type": "stream",
     "text": [
      "<class 'pandas.core.frame.DataFrame'>\n",
      "RangeIndex: 1366604 entries, 0 to 1366603\n",
      "Data columns (total 21 columns):\n",
      " #   Column             Non-Null Count    Dtype  \n",
      "---  ------             --------------    -----  \n",
      " 0   ingredients        1366604 non-null  object \n",
      " 1   ingredient_ids     1366604 non-null  int64  \n",
      " 2   quantities         1281236 non-null  float64\n",
      " 3   measurement_units  1278258 non-null  object \n",
      " 4   recipe_name        1366604 non-null  object \n",
      " 5   recipe_id          1366604 non-null  int64  \n",
      " 6   time_to_prepare    1366604 non-null  int64  \n",
      " 7   creator_id         1366604 non-null  int64  \n",
      " 8   date_submitted     1366604 non-null  object \n",
      " 9   tags               1366604 non-null  object \n",
      " 10  nutrition          1366604 non-null  object \n",
      " 11  n_steps            1366604 non-null  int64  \n",
      " 12  recipe_text        1366604 non-null  object \n",
      " 13  description        1336514 non-null  object \n",
      " 14  n_ingredients      1366604 non-null  int64  \n",
      " 15  food_recipe_url    1366604 non-null  object \n",
      " 16  calories           1366604 non-null  float64\n",
      " 17  cuisine            1366604 non-null  object \n",
      " 18  img_url            1366604 non-null  object \n",
      " 19  serves             1366604 non-null  int64  \n",
      " 20  cuisine_id         1366604 non-null  int64  \n",
      "dtypes: float64(2), int64(8), object(11)\n",
      "memory usage: 219.0+ MB\n"
     ]
    }
   ],
   "source": [
    "recipe_ingredients_df.info()"
   ]
  },
  {
   "cell_type": "code",
   "execution_count": 64,
   "id": "b425413d",
   "metadata": {},
   "outputs": [
    {
     "data": {
      "text/html": [
       "<div>\n",
       "<style scoped>\n",
       "    .dataframe tbody tr th:only-of-type {\n",
       "        vertical-align: middle;\n",
       "    }\n",
       "\n",
       "    .dataframe tbody tr th {\n",
       "        vertical-align: top;\n",
       "    }\n",
       "\n",
       "    .dataframe thead th {\n",
       "        text-align: right;\n",
       "    }\n",
       "</style>\n",
       "<table border=\"1\" class=\"dataframe\">\n",
       "  <thead>\n",
       "    <tr style=\"text-align: right;\">\n",
       "      <th></th>\n",
       "      <th>ingredients</th>\n",
       "      <th>ingredient_ids</th>\n",
       "      <th>quantities</th>\n",
       "      <th>measurement_units</th>\n",
       "      <th>recipe_name</th>\n",
       "      <th>recipe_id</th>\n",
       "      <th>time_to_prepare</th>\n",
       "      <th>creator_id</th>\n",
       "      <th>date_submitted</th>\n",
       "      <th>tags</th>\n",
       "      <th>nutrition</th>\n",
       "      <th>n_steps</th>\n",
       "      <th>recipe_text</th>\n",
       "      <th>description</th>\n",
       "      <th>n_ingredients</th>\n",
       "      <th>food_recipe_url</th>\n",
       "      <th>calories</th>\n",
       "      <th>cuisine</th>\n",
       "      <th>img_url</th>\n",
       "      <th>serves</th>\n",
       "      <th>cuisine_id</th>\n",
       "    </tr>\n",
       "  </thead>\n",
       "  <tbody>\n",
       "    <tr>\n",
       "      <th>0</th>\n",
       "      <td>winter squash</td>\n",
       "      <td>7933</td>\n",
       "      <td>1.0</td>\n",
       "      <td>lb</td>\n",
       "      <td>arriba   baked winter squash mexican style</td>\n",
       "      <td>137739</td>\n",
       "      <td>55</td>\n",
       "      <td>1</td>\n",
       "      <td>2005-09-16</td>\n",
       "      <td>[60-minutes-or-less, time-to-make, course, mai...</td>\n",
       "      <td>[51.5, 0.0, 13.0, 0.0, 2.0, 0.0, 4.0]</td>\n",
       "      <td>11</td>\n",
       "      <td>Make a choice and proceed with recipe. Dependi...</td>\n",
       "      <td>autumn is my favorite time of year to cook! th...</td>\n",
       "      <td>7</td>\n",
       "      <td>https://www.food.com/recipe/arriba---baked-win...</td>\n",
       "      <td>51.5</td>\n",
       "      <td>north-american</td>\n",
       "      <td>https://img.sndimg.com/food/image/upload/w_555...</td>\n",
       "      <td>4</td>\n",
       "      <td>1</td>\n",
       "    </tr>\n",
       "    <tr>\n",
       "      <th>1</th>\n",
       "      <td>mexican seasoning</td>\n",
       "      <td>4694</td>\n",
       "      <td>1.0</td>\n",
       "      <td>teaspoon</td>\n",
       "      <td>arriba   baked winter squash mexican style</td>\n",
       "      <td>137739</td>\n",
       "      <td>55</td>\n",
       "      <td>1</td>\n",
       "      <td>2005-09-16</td>\n",
       "      <td>[60-minutes-or-less, time-to-make, course, mai...</td>\n",
       "      <td>[51.5, 0.0, 13.0, 0.0, 2.0, 0.0, 4.0]</td>\n",
       "      <td>11</td>\n",
       "      <td>Make a choice and proceed with recipe. Dependi...</td>\n",
       "      <td>autumn is my favorite time of year to cook! th...</td>\n",
       "      <td>7</td>\n",
       "      <td>https://www.food.com/recipe/arriba---baked-win...</td>\n",
       "      <td>51.5</td>\n",
       "      <td>north-american</td>\n",
       "      <td>https://img.sndimg.com/food/image/upload/w_555...</td>\n",
       "      <td>4</td>\n",
       "      <td>1</td>\n",
       "    </tr>\n",
       "    <tr>\n",
       "      <th>2</th>\n",
       "      <td>mixed spice</td>\n",
       "      <td>4795</td>\n",
       "      <td>1.0</td>\n",
       "      <td>teaspoon</td>\n",
       "      <td>arriba   baked winter squash mexican style</td>\n",
       "      <td>137739</td>\n",
       "      <td>55</td>\n",
       "      <td>1</td>\n",
       "      <td>2005-09-16</td>\n",
       "      <td>[60-minutes-or-less, time-to-make, course, mai...</td>\n",
       "      <td>[51.5, 0.0, 13.0, 0.0, 2.0, 0.0, 4.0]</td>\n",
       "      <td>11</td>\n",
       "      <td>Make a choice and proceed with recipe. Dependi...</td>\n",
       "      <td>autumn is my favorite time of year to cook! th...</td>\n",
       "      <td>7</td>\n",
       "      <td>https://www.food.com/recipe/arriba---baked-win...</td>\n",
       "      <td>51.5</td>\n",
       "      <td>north-american</td>\n",
       "      <td>https://img.sndimg.com/food/image/upload/w_555...</td>\n",
       "      <td>4</td>\n",
       "      <td>1</td>\n",
       "    </tr>\n",
       "    <tr>\n",
       "      <th>3</th>\n",
       "      <td>honey</td>\n",
       "      <td>3723</td>\n",
       "      <td>NaN</td>\n",
       "      <td>NaN</td>\n",
       "      <td>arriba   baked winter squash mexican style</td>\n",
       "      <td>137739</td>\n",
       "      <td>55</td>\n",
       "      <td>1</td>\n",
       "      <td>2005-09-16</td>\n",
       "      <td>[60-minutes-or-less, time-to-make, course, mai...</td>\n",
       "      <td>[51.5, 0.0, 13.0, 0.0, 2.0, 0.0, 4.0]</td>\n",
       "      <td>11</td>\n",
       "      <td>Make a choice and proceed with recipe. Dependi...</td>\n",
       "      <td>autumn is my favorite time of year to cook! th...</td>\n",
       "      <td>7</td>\n",
       "      <td>https://www.food.com/recipe/arriba---baked-win...</td>\n",
       "      <td>51.5</td>\n",
       "      <td>north-american</td>\n",
       "      <td>https://img.sndimg.com/food/image/upload/w_555...</td>\n",
       "      <td>4</td>\n",
       "      <td>1</td>\n",
       "    </tr>\n",
       "    <tr>\n",
       "      <th>4</th>\n",
       "      <td>butter</td>\n",
       "      <td>840</td>\n",
       "      <td>NaN</td>\n",
       "      <td>NaN</td>\n",
       "      <td>arriba   baked winter squash mexican style</td>\n",
       "      <td>137739</td>\n",
       "      <td>55</td>\n",
       "      <td>1</td>\n",
       "      <td>2005-09-16</td>\n",
       "      <td>[60-minutes-or-less, time-to-make, course, mai...</td>\n",
       "      <td>[51.5, 0.0, 13.0, 0.0, 2.0, 0.0, 4.0]</td>\n",
       "      <td>11</td>\n",
       "      <td>Make a choice and proceed with recipe. Dependi...</td>\n",
       "      <td>autumn is my favorite time of year to cook! th...</td>\n",
       "      <td>7</td>\n",
       "      <td>https://www.food.com/recipe/arriba---baked-win...</td>\n",
       "      <td>51.5</td>\n",
       "      <td>north-american</td>\n",
       "      <td>https://img.sndimg.com/food/image/upload/w_555...</td>\n",
       "      <td>4</td>\n",
       "      <td>1</td>\n",
       "    </tr>\n",
       "  </tbody>\n",
       "</table>\n",
       "</div>"
      ],
      "text/plain": [
       "         ingredients  ingredient_ids  quantities measurement_units  \\\n",
       "0      winter squash            7933         1.0                lb   \n",
       "1  mexican seasoning            4694         1.0          teaspoon   \n",
       "2        mixed spice            4795         1.0          teaspoon   \n",
       "3              honey            3723         NaN               NaN   \n",
       "4             butter             840         NaN               NaN   \n",
       "\n",
       "                                  recipe_name  recipe_id  time_to_prepare  \\\n",
       "0  arriba   baked winter squash mexican style     137739               55   \n",
       "1  arriba   baked winter squash mexican style     137739               55   \n",
       "2  arriba   baked winter squash mexican style     137739               55   \n",
       "3  arriba   baked winter squash mexican style     137739               55   \n",
       "4  arriba   baked winter squash mexican style     137739               55   \n",
       "\n",
       "   creator_id date_submitted  \\\n",
       "0           1     2005-09-16   \n",
       "1           1     2005-09-16   \n",
       "2           1     2005-09-16   \n",
       "3           1     2005-09-16   \n",
       "4           1     2005-09-16   \n",
       "\n",
       "                                                tags  \\\n",
       "0  [60-minutes-or-less, time-to-make, course, mai...   \n",
       "1  [60-minutes-or-less, time-to-make, course, mai...   \n",
       "2  [60-minutes-or-less, time-to-make, course, mai...   \n",
       "3  [60-minutes-or-less, time-to-make, course, mai...   \n",
       "4  [60-minutes-or-less, time-to-make, course, mai...   \n",
       "\n",
       "                               nutrition  n_steps  \\\n",
       "0  [51.5, 0.0, 13.0, 0.0, 2.0, 0.0, 4.0]       11   \n",
       "1  [51.5, 0.0, 13.0, 0.0, 2.0, 0.0, 4.0]       11   \n",
       "2  [51.5, 0.0, 13.0, 0.0, 2.0, 0.0, 4.0]       11   \n",
       "3  [51.5, 0.0, 13.0, 0.0, 2.0, 0.0, 4.0]       11   \n",
       "4  [51.5, 0.0, 13.0, 0.0, 2.0, 0.0, 4.0]       11   \n",
       "\n",
       "                                         recipe_text  \\\n",
       "0  Make a choice and proceed with recipe. Dependi...   \n",
       "1  Make a choice and proceed with recipe. Dependi...   \n",
       "2  Make a choice and proceed with recipe. Dependi...   \n",
       "3  Make a choice and proceed with recipe. Dependi...   \n",
       "4  Make a choice and proceed with recipe. Dependi...   \n",
       "\n",
       "                                         description  n_ingredients  \\\n",
       "0  autumn is my favorite time of year to cook! th...              7   \n",
       "1  autumn is my favorite time of year to cook! th...              7   \n",
       "2  autumn is my favorite time of year to cook! th...              7   \n",
       "3  autumn is my favorite time of year to cook! th...              7   \n",
       "4  autumn is my favorite time of year to cook! th...              7   \n",
       "\n",
       "                                     food_recipe_url  calories  \\\n",
       "0  https://www.food.com/recipe/arriba---baked-win...      51.5   \n",
       "1  https://www.food.com/recipe/arriba---baked-win...      51.5   \n",
       "2  https://www.food.com/recipe/arriba---baked-win...      51.5   \n",
       "3  https://www.food.com/recipe/arriba---baked-win...      51.5   \n",
       "4  https://www.food.com/recipe/arriba---baked-win...      51.5   \n",
       "\n",
       "          cuisine                                            img_url  serves  \\\n",
       "0  north-american  https://img.sndimg.com/food/image/upload/w_555...       4   \n",
       "1  north-american  https://img.sndimg.com/food/image/upload/w_555...       4   \n",
       "2  north-american  https://img.sndimg.com/food/image/upload/w_555...       4   \n",
       "3  north-american  https://img.sndimg.com/food/image/upload/w_555...       4   \n",
       "4  north-american  https://img.sndimg.com/food/image/upload/w_555...       4   \n",
       "\n",
       "   cuisine_id  \n",
       "0           1  \n",
       "1           1  \n",
       "2           1  \n",
       "3           1  \n",
       "4           1  "
      ]
     },
     "execution_count": 64,
     "metadata": {},
     "output_type": "execute_result"
    }
   ],
   "source": [
    "recipe_ingredients_df.head()"
   ]
  },
  {
   "cell_type": "code",
   "execution_count": 65,
   "id": "f5e6f822",
   "metadata": {},
   "outputs": [],
   "source": [
    "temp_df = recipe_ingredients_df[(recipe_ingredients_df[\"quantities\"].notna()\n",
    "                              & recipe_ingredients_df[\"measurement_units\"].isna())]"
   ]
  },
  {
   "cell_type": "code",
   "execution_count": 66,
   "id": "a65bb146",
   "metadata": {},
   "outputs": [],
   "source": [
    "mode = lambda x: x.mode()[0] if x.mode().size > 0 else x.mode()\n",
    "most_popular_measure_units = recipe_ingredients_df[[\"ingredient_ids\", \"measurement_units\"]].groupby(\n",
    "    \"ingredient_ids\"\n",
    ")[\"measurement_units\"].agg(mode).to_dict()"
   ]
  },
  {
   "cell_type": "code",
   "execution_count": 67,
   "id": "c9d47e23",
   "metadata": {},
   "outputs": [
    {
     "data": {
      "text/plain": [
       "96              cup\n",
       "355             cup\n",
       "1895          flour\n",
       "2237            cup\n",
       "3701        unbaked\n",
       "             ...   \n",
       "1365579    boneless\n",
       "1365935        eggs\n",
       "1366091    teaspoon\n",
       "1366261         lbs\n",
       "1366505        plum\n",
       "Name: measurement_units, Length: 2978, dtype: object"
      ]
     },
     "execution_count": 67,
     "metadata": {},
     "output_type": "execute_result"
    }
   ],
   "source": [
    "temp_df[\"measurement_units\"].fillna(temp_df[\"ingredient_ids\"].map(most_popular_measure_units))"
   ]
  },
  {
   "cell_type": "code",
   "execution_count": 68,
   "id": "b49d8195",
   "metadata": {},
   "outputs": [],
   "source": [
    "recipe_ingredients_df.loc[recipe_ingredients_df.index.isin(temp_df.index), \"measurement_units\"] = (\n",
    "    temp_df[\"measurement_units\"].fillna(\n",
    "    temp_df[\"ingredient_ids\"].map(most_popular_measure_units)))"
   ]
  },
  {
   "cell_type": "code",
   "execution_count": 69,
   "id": "66a8a3df",
   "metadata": {},
   "outputs": [
    {
     "name": "stdout",
     "output_type": "stream",
     "text": [
      "<class 'pandas.core.frame.DataFrame'>\n",
      "RangeIndex: 1366604 entries, 0 to 1366603\n",
      "Data columns (total 21 columns):\n",
      " #   Column             Non-Null Count    Dtype  \n",
      "---  ------             --------------    -----  \n",
      " 0   ingredients        1366604 non-null  object \n",
      " 1   ingredient_ids     1366604 non-null  int64  \n",
      " 2   quantities         1281236 non-null  float64\n",
      " 3   measurement_units  1281236 non-null  object \n",
      " 4   recipe_name        1366604 non-null  object \n",
      " 5   recipe_id          1366604 non-null  int64  \n",
      " 6   time_to_prepare    1366604 non-null  int64  \n",
      " 7   creator_id         1366604 non-null  int64  \n",
      " 8   date_submitted     1366604 non-null  object \n",
      " 9   tags               1366604 non-null  object \n",
      " 10  nutrition          1366604 non-null  object \n",
      " 11  n_steps            1366604 non-null  int64  \n",
      " 12  recipe_text        1366604 non-null  object \n",
      " 13  description        1336514 non-null  object \n",
      " 14  n_ingredients      1366604 non-null  int64  \n",
      " 15  food_recipe_url    1366604 non-null  object \n",
      " 16  calories           1366604 non-null  float64\n",
      " 17  cuisine            1366604 non-null  object \n",
      " 18  img_url            1366604 non-null  object \n",
      " 19  serves             1366604 non-null  int64  \n",
      " 20  cuisine_id         1366604 non-null  int64  \n",
      "dtypes: float64(2), int64(8), object(11)\n",
      "memory usage: 219.0+ MB\n"
     ]
    }
   ],
   "source": [
    "recipe_ingredients_df.info()"
   ]
  },
  {
   "cell_type": "code",
   "execution_count": 70,
   "id": "c1aa002b",
   "metadata": {},
   "outputs": [
    {
     "data": {
      "text/html": [
       "<div>\n",
       "<style scoped>\n",
       "    .dataframe tbody tr th:only-of-type {\n",
       "        vertical-align: middle;\n",
       "    }\n",
       "\n",
       "    .dataframe tbody tr th {\n",
       "        vertical-align: top;\n",
       "    }\n",
       "\n",
       "    .dataframe thead th {\n",
       "        text-align: right;\n",
       "    }\n",
       "</style>\n",
       "<table border=\"1\" class=\"dataframe\">\n",
       "  <thead>\n",
       "    <tr style=\"text-align: right;\">\n",
       "      <th></th>\n",
       "      <th>recipe_id</th>\n",
       "      <th>ingredient_id</th>\n",
       "      <th>quantity</th>\n",
       "      <th>measurement_unit</th>\n",
       "    </tr>\n",
       "  </thead>\n",
       "  <tbody>\n",
       "    <tr>\n",
       "      <th>0</th>\n",
       "      <td>137739</td>\n",
       "      <td>7933</td>\n",
       "      <td>1.0</td>\n",
       "      <td>lb</td>\n",
       "    </tr>\n",
       "    <tr>\n",
       "      <th>1</th>\n",
       "      <td>137739</td>\n",
       "      <td>4694</td>\n",
       "      <td>1.0</td>\n",
       "      <td>teaspoon</td>\n",
       "    </tr>\n",
       "    <tr>\n",
       "      <th>2</th>\n",
       "      <td>137739</td>\n",
       "      <td>4795</td>\n",
       "      <td>1.0</td>\n",
       "      <td>teaspoon</td>\n",
       "    </tr>\n",
       "    <tr>\n",
       "      <th>3</th>\n",
       "      <td>137739</td>\n",
       "      <td>3723</td>\n",
       "      <td>NaN</td>\n",
       "      <td>NaN</td>\n",
       "    </tr>\n",
       "    <tr>\n",
       "      <th>4</th>\n",
       "      <td>137739</td>\n",
       "      <td>840</td>\n",
       "      <td>NaN</td>\n",
       "      <td>NaN</td>\n",
       "    </tr>\n",
       "  </tbody>\n",
       "</table>\n",
       "</div>"
      ],
      "text/plain": [
       "   recipe_id  ingredient_id  quantity measurement_unit\n",
       "0     137739           7933       1.0               lb\n",
       "1     137739           4694       1.0         teaspoon\n",
       "2     137739           4795       1.0         teaspoon\n",
       "3     137739           3723       NaN              NaN\n",
       "4     137739            840       NaN              NaN"
      ]
     },
     "execution_count": 70,
     "metadata": {},
     "output_type": "execute_result"
    }
   ],
   "source": [
    "recipe_ingredients_df = recipe_ingredients_df[[\"recipe_id\", \"ingredient_ids\", \n",
    "                                                             \"quantities\", \"measurement_units\"]]\n",
    "recipe_ingredients_df = recipe_ingredients_df.rename(columns={\n",
    "    \"ingredient_ids\": \"ingredient_id\", \n",
    "    \"quantities\": \"quantity\",\n",
    "    \"measurement_units\": \"measurement_unit\"})\n",
    "recipe_ingredients_df.head()"
   ]
  },
  {
   "cell_type": "code",
   "execution_count": 77,
   "id": "e613446c",
   "metadata": {
    "scrolled": false
   },
   "outputs": [
    {
     "data": {
      "text/html": [
       "<div>\n",
       "<style scoped>\n",
       "    .dataframe tbody tr th:only-of-type {\n",
       "        vertical-align: middle;\n",
       "    }\n",
       "\n",
       "    .dataframe tbody tr th {\n",
       "        vertical-align: top;\n",
       "    }\n",
       "\n",
       "    .dataframe thead th {\n",
       "        text-align: right;\n",
       "    }\n",
       "</style>\n",
       "<table border=\"1\" class=\"dataframe\">\n",
       "  <thead>\n",
       "    <tr style=\"text-align: right;\">\n",
       "      <th></th>\n",
       "      <th>recipe_id</th>\n",
       "      <th>ingredient_id</th>\n",
       "      <th>quantity</th>\n",
       "      <th>measurement_unit</th>\n",
       "    </tr>\n",
       "  </thead>\n",
       "  <tbody>\n",
       "    <tr>\n",
       "      <th>0</th>\n",
       "      <td>137739</td>\n",
       "      <td>7933</td>\n",
       "      <td>1.0</td>\n",
       "      <td>lb</td>\n",
       "    </tr>\n",
       "    <tr>\n",
       "      <th>1</th>\n",
       "      <td>137739</td>\n",
       "      <td>4694</td>\n",
       "      <td>1.0</td>\n",
       "      <td>teaspoon</td>\n",
       "    </tr>\n",
       "    <tr>\n",
       "      <th>2</th>\n",
       "      <td>137739</td>\n",
       "      <td>4795</td>\n",
       "      <td>1.0</td>\n",
       "      <td>teaspoon</td>\n",
       "    </tr>\n",
       "    <tr>\n",
       "      <th>3</th>\n",
       "      <td>137739</td>\n",
       "      <td>3723</td>\n",
       "      <td>NaN</td>\n",
       "      <td>NaN</td>\n",
       "    </tr>\n",
       "    <tr>\n",
       "      <th>4</th>\n",
       "      <td>137739</td>\n",
       "      <td>840</td>\n",
       "      <td>NaN</td>\n",
       "      <td>NaN</td>\n",
       "    </tr>\n",
       "    <tr>\n",
       "      <th>...</th>\n",
       "      <td>...</td>\n",
       "      <td>...</td>\n",
       "      <td>...</td>\n",
       "      <td>...</td>\n",
       "    </tr>\n",
       "    <tr>\n",
       "      <th>1366599</th>\n",
       "      <td>502817</td>\n",
       "      <td>3184</td>\n",
       "      <td>1.0</td>\n",
       "      <td>teaspoon</td>\n",
       "    </tr>\n",
       "    <tr>\n",
       "      <th>1366600</th>\n",
       "      <td>502817</td>\n",
       "      <td>3248</td>\n",
       "      <td>1.0</td>\n",
       "      <td>teaspoon</td>\n",
       "    </tr>\n",
       "    <tr>\n",
       "      <th>1366601</th>\n",
       "      <td>502817</td>\n",
       "      <td>590</td>\n",
       "      <td>0.5</td>\n",
       "      <td>teaspoon</td>\n",
       "    </tr>\n",
       "    <tr>\n",
       "      <th>1366602</th>\n",
       "      <td>502817</td>\n",
       "      <td>6335</td>\n",
       "      <td>0.5</td>\n",
       "      <td>cup</td>\n",
       "    </tr>\n",
       "    <tr>\n",
       "      <th>1366603</th>\n",
       "      <td>502817</td>\n",
       "      <td>4755</td>\n",
       "      <td>0.5</td>\n",
       "      <td>cup</td>\n",
       "    </tr>\n",
       "  </tbody>\n",
       "</table>\n",
       "<p>1366604 rows × 4 columns</p>\n",
       "</div>"
      ],
      "text/plain": [
       "         recipe_id  ingredient_id  quantity measurement_unit\n",
       "0           137739           7933       1.0               lb\n",
       "1           137739           4694       1.0         teaspoon\n",
       "2           137739           4795       1.0         teaspoon\n",
       "3           137739           3723       NaN              NaN\n",
       "4           137739            840       NaN              NaN\n",
       "...            ...            ...       ...              ...\n",
       "1366599     502817           3184       1.0         teaspoon\n",
       "1366600     502817           3248       1.0         teaspoon\n",
       "1366601     502817            590       0.5         teaspoon\n",
       "1366602     502817           6335       0.5              cup\n",
       "1366603     502817           4755       0.5              cup\n",
       "\n",
       "[1366604 rows x 4 columns]"
      ]
     },
     "execution_count": 77,
     "metadata": {},
     "output_type": "execute_result"
    }
   ],
   "source": [
    "recipe_ingredients_df[recipe_ingredients_df[\"recipe_id\"].isin(recipe_df[\"recipe_id\"])]"
   ]
  },
  {
   "cell_type": "code",
   "execution_count": 72,
   "id": "07a509aa",
   "metadata": {},
   "outputs": [
    {
     "data": {
      "text/html": [
       "<div>\n",
       "<style scoped>\n",
       "    .dataframe tbody tr th:only-of-type {\n",
       "        vertical-align: middle;\n",
       "    }\n",
       "\n",
       "    .dataframe tbody tr th {\n",
       "        vertical-align: top;\n",
       "    }\n",
       "\n",
       "    .dataframe thead th {\n",
       "        text-align: right;\n",
       "    }\n",
       "</style>\n",
       "<table border=\"1\" class=\"dataframe\">\n",
       "  <thead>\n",
       "    <tr style=\"text-align: right;\">\n",
       "      <th></th>\n",
       "      <th>recipe_id</th>\n",
       "      <th>ingredient_id</th>\n",
       "      <th>quantity</th>\n",
       "      <th>measurement_unit</th>\n",
       "    </tr>\n",
       "  </thead>\n",
       "  <tbody>\n",
       "    <tr>\n",
       "      <th>0</th>\n",
       "      <td>137739</td>\n",
       "      <td>7933</td>\n",
       "      <td>1.0</td>\n",
       "      <td>lb</td>\n",
       "    </tr>\n",
       "    <tr>\n",
       "      <th>1</th>\n",
       "      <td>137739</td>\n",
       "      <td>4694</td>\n",
       "      <td>1.0</td>\n",
       "      <td>teaspoon</td>\n",
       "    </tr>\n",
       "    <tr>\n",
       "      <th>2</th>\n",
       "      <td>137739</td>\n",
       "      <td>4795</td>\n",
       "      <td>1.0</td>\n",
       "      <td>teaspoon</td>\n",
       "    </tr>\n",
       "    <tr>\n",
       "      <th>3</th>\n",
       "      <td>137739</td>\n",
       "      <td>3723</td>\n",
       "      <td>NaN</td>\n",
       "      <td>NaN</td>\n",
       "    </tr>\n",
       "    <tr>\n",
       "      <th>4</th>\n",
       "      <td>137739</td>\n",
       "      <td>840</td>\n",
       "      <td>NaN</td>\n",
       "      <td>NaN</td>\n",
       "    </tr>\n",
       "    <tr>\n",
       "      <th>...</th>\n",
       "      <td>...</td>\n",
       "      <td>...</td>\n",
       "      <td>...</td>\n",
       "      <td>...</td>\n",
       "    </tr>\n",
       "    <tr>\n",
       "      <th>1366599</th>\n",
       "      <td>502817</td>\n",
       "      <td>3184</td>\n",
       "      <td>1.0</td>\n",
       "      <td>teaspoon</td>\n",
       "    </tr>\n",
       "    <tr>\n",
       "      <th>1366600</th>\n",
       "      <td>502817</td>\n",
       "      <td>3248</td>\n",
       "      <td>1.0</td>\n",
       "      <td>teaspoon</td>\n",
       "    </tr>\n",
       "    <tr>\n",
       "      <th>1366601</th>\n",
       "      <td>502817</td>\n",
       "      <td>590</td>\n",
       "      <td>0.5</td>\n",
       "      <td>teaspoon</td>\n",
       "    </tr>\n",
       "    <tr>\n",
       "      <th>1366602</th>\n",
       "      <td>502817</td>\n",
       "      <td>6335</td>\n",
       "      <td>0.5</td>\n",
       "      <td>cup</td>\n",
       "    </tr>\n",
       "    <tr>\n",
       "      <th>1366603</th>\n",
       "      <td>502817</td>\n",
       "      <td>4755</td>\n",
       "      <td>0.5</td>\n",
       "      <td>cup</td>\n",
       "    </tr>\n",
       "  </tbody>\n",
       "</table>\n",
       "<p>1366604 rows × 4 columns</p>\n",
       "</div>"
      ],
      "text/plain": [
       "         recipe_id  ingredient_id  quantity measurement_unit\n",
       "0           137739           7933       1.0               lb\n",
       "1           137739           4694       1.0         teaspoon\n",
       "2           137739           4795       1.0         teaspoon\n",
       "3           137739           3723       NaN              NaN\n",
       "4           137739            840       NaN              NaN\n",
       "...            ...            ...       ...              ...\n",
       "1366599     502817           3184       1.0         teaspoon\n",
       "1366600     502817           3248       1.0         teaspoon\n",
       "1366601     502817            590       0.5         teaspoon\n",
       "1366602     502817           6335       0.5              cup\n",
       "1366603     502817           4755       0.5              cup\n",
       "\n",
       "[1366604 rows x 4 columns]"
      ]
     },
     "execution_count": 72,
     "metadata": {},
     "output_type": "execute_result"
    }
   ],
   "source": [
    "recipe_ingredients_df"
   ]
  },
  {
   "cell_type": "code",
   "execution_count": 35,
   "id": "23baf7d3",
   "metadata": {},
   "outputs": [
    {
     "data": {
      "text/html": [
       "<div>\n",
       "<style scoped>\n",
       "    .dataframe tbody tr th:only-of-type {\n",
       "        vertical-align: middle;\n",
       "    }\n",
       "\n",
       "    .dataframe tbody tr th {\n",
       "        vertical-align: top;\n",
       "    }\n",
       "\n",
       "    .dataframe thead th {\n",
       "        text-align: right;\n",
       "    }\n",
       "</style>\n",
       "<table border=\"1\" class=\"dataframe\">\n",
       "  <thead>\n",
       "    <tr style=\"text-align: right;\">\n",
       "      <th></th>\n",
       "      <th>recipe_id</th>\n",
       "      <th>ingredient_id</th>\n",
       "      <th>quantity</th>\n",
       "      <th>measurement_unit</th>\n",
       "    </tr>\n",
       "  </thead>\n",
       "  <tbody>\n",
       "    <tr>\n",
       "      <th>0</th>\n",
       "      <td>137739</td>\n",
       "      <td>7933</td>\n",
       "      <td>1.0</td>\n",
       "      <td>lb</td>\n",
       "    </tr>\n",
       "    <tr>\n",
       "      <th>1</th>\n",
       "      <td>137739</td>\n",
       "      <td>4694</td>\n",
       "      <td>1.0</td>\n",
       "      <td>teaspoon</td>\n",
       "    </tr>\n",
       "    <tr>\n",
       "      <th>2</th>\n",
       "      <td>137739</td>\n",
       "      <td>4795</td>\n",
       "      <td>1.0</td>\n",
       "      <td>teaspoon</td>\n",
       "    </tr>\n",
       "    <tr>\n",
       "      <th>3</th>\n",
       "      <td>137739</td>\n",
       "      <td>3723</td>\n",
       "      <td>NaN</td>\n",
       "      <td>NaN</td>\n",
       "    </tr>\n",
       "    <tr>\n",
       "      <th>4</th>\n",
       "      <td>137739</td>\n",
       "      <td>840</td>\n",
       "      <td>NaN</td>\n",
       "      <td>NaN</td>\n",
       "    </tr>\n",
       "  </tbody>\n",
       "</table>\n",
       "</div>"
      ],
      "text/plain": [
       "   recipe_id  ingredient_id  quantity measurement_unit\n",
       "0     137739           7933       1.0               lb\n",
       "1     137739           4694       1.0         teaspoon\n",
       "2     137739           4795       1.0         teaspoon\n",
       "3     137739           3723       NaN              NaN\n",
       "4     137739            840       NaN              NaN"
      ]
     },
     "execution_count": 35,
     "metadata": {},
     "output_type": "execute_result"
    }
   ],
   "source": [
    "recipe_ingredients_df.to_csv(\"recipe_ingredients_df.csv\", index=False)"
   ]
  },
  {
   "cell_type": "code",
   "execution_count": null,
   "id": "1c682be9",
   "metadata": {},
   "outputs": [],
   "source": []
  },
  {
   "cell_type": "code",
   "execution_count": 36,
   "id": "d7c32053",
   "metadata": {},
   "outputs": [],
   "source": [
    "recipe_df.to_csv(\"recipe_155k_with_all_updated_columns.csv\",index=False)"
   ]
  },
  {
   "cell_type": "code",
   "execution_count": 37,
   "id": "86db3afa",
   "metadata": {
    "scrolled": false
   },
   "outputs": [],
   "source": [
    "cuisine_df.to_csv(\"cuisines.csv\", index=False)"
   ]
  },
  {
   "cell_type": "code",
   "execution_count": 38,
   "id": "d1568baa",
   "metadata": {},
   "outputs": [],
   "source": [
    "ingr_map_df.to_csv(\"ingr_map.csv\", index=False)"
   ]
  },
  {
   "cell_type": "code",
   "execution_count": null,
   "id": "10984b8b",
   "metadata": {},
   "outputs": [],
   "source": [
    "pp_recipe_df.info()"
   ]
  },
  {
   "cell_type": "code",
   "execution_count": null,
   "id": "ed62bbc8",
   "metadata": {},
   "outputs": [],
   "source": [
    "recipe_df.info()"
   ]
  },
  {
   "cell_type": "code",
   "execution_count": 56,
   "id": "0c0f6c0d",
   "metadata": {},
   "outputs": [],
   "source": [
    "raw_interactions_df = raw_interactions_df[raw_interactions_df[\"recipe_id\"].isin(recipe_df[\"recipe_id\"])]"
   ]
  },
  {
   "cell_type": "code",
   "execution_count": 81,
   "id": "4e0069a7",
   "metadata": {},
   "outputs": [
    {
     "data": {
      "text/plain": [
       "22218"
      ]
     },
     "execution_count": 81,
     "metadata": {},
     "output_type": "execute_result"
    }
   ],
   "source": [
    "raw_interactions_df[\"user_id\"].max()"
   ]
  },
  {
   "cell_type": "code",
   "execution_count": 80,
   "id": "e2f1e65a",
   "metadata": {},
   "outputs": [
    {
     "data": {
      "text/html": [
       "<div>\n",
       "<style scoped>\n",
       "    .dataframe tbody tr th:only-of-type {\n",
       "        vertical-align: middle;\n",
       "    }\n",
       "\n",
       "    .dataframe tbody tr th {\n",
       "        vertical-align: top;\n",
       "    }\n",
       "\n",
       "    .dataframe thead th {\n",
       "        text-align: right;\n",
       "    }\n",
       "</style>\n",
       "<table border=\"1\" class=\"dataframe\">\n",
       "  <thead>\n",
       "    <tr style=\"text-align: right;\">\n",
       "      <th></th>\n",
       "      <th>user_id</th>\n",
       "      <th>recipe_id</th>\n",
       "      <th>interaction_date</th>\n",
       "      <th>rating</th>\n",
       "      <th>review</th>\n",
       "    </tr>\n",
       "  </thead>\n",
       "  <tbody>\n",
       "    <tr>\n",
       "      <th>0</th>\n",
       "      <td>899</td>\n",
       "      <td>52469</td>\n",
       "      <td>2003-04-24</td>\n",
       "      <td>5</td>\n",
       "      <td>It's GENIUS! I love this recipe- thank you so ...</td>\n",
       "    </tr>\n",
       "    <tr>\n",
       "      <th>1</th>\n",
       "      <td>9527</td>\n",
       "      <td>241877</td>\n",
       "      <td>2009-02-20</td>\n",
       "      <td>4</td>\n",
       "      <td>Good side dish.  I only made half a recipe and...</td>\n",
       "    </tr>\n",
       "    <tr>\n",
       "      <th>2</th>\n",
       "      <td>12460</td>\n",
       "      <td>373493</td>\n",
       "      <td>2012-07-07</td>\n",
       "      <td>5</td>\n",
       "      <td>Delicious! I did eyeball the honeydew (used a ...</td>\n",
       "    </tr>\n",
       "    <tr>\n",
       "      <th>3</th>\n",
       "      <td>2161</td>\n",
       "      <td>307866</td>\n",
       "      <td>2011-09-06</td>\n",
       "      <td>5</td>\n",
       "      <td>Wow, this was such a great recipe. I wasn't su...</td>\n",
       "    </tr>\n",
       "    <tr>\n",
       "      <th>4</th>\n",
       "      <td>4147</td>\n",
       "      <td>205407</td>\n",
       "      <td>2007-01-16</td>\n",
       "      <td>5</td>\n",
       "      <td>It was both simple and delicious. Although I a...</td>\n",
       "    </tr>\n",
       "  </tbody>\n",
       "</table>\n",
       "</div>"
      ],
      "text/plain": [
       "   user_id  recipe_id interaction_date  rating  \\\n",
       "0      899      52469       2003-04-24       5   \n",
       "1     9527     241877       2009-02-20       4   \n",
       "2    12460     373493       2012-07-07       5   \n",
       "3     2161     307866       2011-09-06       5   \n",
       "4     4147     205407       2007-01-16       5   \n",
       "\n",
       "                                              review  \n",
       "0  It's GENIUS! I love this recipe- thank you so ...  \n",
       "1  Good side dish.  I only made half a recipe and...  \n",
       "2  Delicious! I did eyeball the honeydew (used a ...  \n",
       "3  Wow, this was such a great recipe. I wasn't su...  \n",
       "4  It was both simple and delicious. Although I a...  "
      ]
     },
     "execution_count": 80,
     "metadata": {},
     "output_type": "execute_result"
    }
   ],
   "source": [
    "interactions_df = raw_interactions_df.rename(columns={\"date\": \"interaction_date\"})\n",
    "interactions_df.head()"
   ]
  },
  {
   "cell_type": "code",
   "execution_count": null,
   "id": "3916264c",
   "metadata": {},
   "outputs": [],
   "source": [
    "interactions_df.to_csv(\"interactions_df.csv\", index=False)"
   ]
  }
 ],
 "metadata": {
  "kernelspec": {
   "display_name": "Python 3",
   "language": "python",
   "name": "python3"
  },
  "language_info": {
   "codemirror_mode": {
    "name": "ipython",
    "version": 3
   },
   "file_extension": ".py",
   "mimetype": "text/x-python",
   "name": "python",
   "nbconvert_exporter": "python",
   "pygments_lexer": "ipython3",
   "version": "3.7.10"
  }
 },
 "nbformat": 4,
 "nbformat_minor": 5
}
