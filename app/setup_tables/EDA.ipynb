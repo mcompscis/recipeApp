{
 "cells": [
  {
   "cell_type": "code",
   "execution_count": 1,
   "id": "5342cac6",
   "metadata": {},
   "outputs": [],
   "source": [
    "import pandas as pd\n",
    "import numpy as np\n",
    "import pickle\n",
    "import json"
   ]
  },
  {
   "cell_type": "code",
   "execution_count": 3,
   "id": "64b213fa",
   "metadata": {},
   "outputs": [],
   "source": [
    "with open(\"scraped_img_urls.pkl\", \"rb\") as f:\n",
    "    scraped_img_urls = pickle.load(f)\n",
    "with open(\"cuisine_lst.pkl\", \"rb\") as f:\n",
    "    cuisine_lst = pickle.load(f)\n",
    "    cuisine_lst.append(\"none\")\n",
    "    cuisine_map = {cuisine.lower(): i for i, cuisine in enumerate(cuisine_lst)}\n",
    "with open(\"food_data/ingr_map.pkl\", \"rb\") as f:\n",
    "    ingr_map_df = pickle.load(f)"
   ]
  },
  {
   "cell_type": "code",
   "execution_count": 4,
   "id": "ceaef760",
   "metadata": {},
   "outputs": [],
   "source": [
    "recipe_df = pd.read_csv(\"recipe_df_178k_with_updated_users.csv\", \n",
    "                        converters={\"ingredients\": eval, \"quantities\": eval, \n",
    "                                    \"measurement_units\": eval, \"tags\": eval,\n",
    "                                   \"nutrition\": eval, \"steps\": eval, })\n",
    "user_df = pd.read_csv(\"users.csv\")\n",
    "raw_interactions_df = pd.read_csv(\"interactions_with_updated_users.csv\")\n",
    "pp_recipe_df = pd.read_csv(\"food_data/PP_recipes.csv\", converters={\"ingredient_ids\": eval})"
   ]
  },
  {
   "cell_type": "code",
   "execution_count": 5,
   "id": "32dcf2a0",
   "metadata": {},
   "outputs": [],
   "source": [
    "recipe_df[\"calories\"] = recipe_df[\"nutrition\"].str[0]"
   ]
  },
  {
   "cell_type": "code",
   "execution_count": 6,
   "id": "21ec65db",
   "metadata": {},
   "outputs": [
    {
     "data": {
      "text/html": [
       "<div>\n",
       "<style scoped>\n",
       "    .dataframe tbody tr th:only-of-type {\n",
       "        vertical-align: middle;\n",
       "    }\n",
       "\n",
       "    .dataframe tbody tr th {\n",
       "        vertical-align: top;\n",
       "    }\n",
       "\n",
       "    .dataframe thead th {\n",
       "        text-align: right;\n",
       "    }\n",
       "</style>\n",
       "<table border=\"1\" class=\"dataframe\">\n",
       "  <thead>\n",
       "    <tr style=\"text-align: right;\">\n",
       "      <th></th>\n",
       "      <th>name</th>\n",
       "      <th>id</th>\n",
       "      <th>minutes</th>\n",
       "      <th>contributor_id</th>\n",
       "      <th>submitted</th>\n",
       "      <th>tags</th>\n",
       "      <th>nutrition</th>\n",
       "      <th>n_steps</th>\n",
       "      <th>steps</th>\n",
       "      <th>description</th>\n",
       "      <th>ingredients</th>\n",
       "      <th>n_ingredients</th>\n",
       "      <th>food_recipe_url</th>\n",
       "      <th>quantities</th>\n",
       "      <th>measurement_units</th>\n",
       "      <th>calories</th>\n",
       "    </tr>\n",
       "  </thead>\n",
       "  <tbody>\n",
       "    <tr>\n",
       "      <th>0</th>\n",
       "      <td>arriba   baked winter squash mexican style</td>\n",
       "      <td>137739</td>\n",
       "      <td>55</td>\n",
       "      <td>1</td>\n",
       "      <td>2005-09-16</td>\n",
       "      <td>[60-minutes-or-less, time-to-make, course, mai...</td>\n",
       "      <td>[51.5, 0.0, 13.0, 0.0, 2.0, 0.0, 4.0]</td>\n",
       "      <td>11</td>\n",
       "      <td>[make a choice and proceed with recipe, depend...</td>\n",
       "      <td>autumn is my favorite time of year to cook! th...</td>\n",
       "      <td>[winter squash, mexican seasoning, mixed spice...</td>\n",
       "      <td>7</td>\n",
       "      <td>https://www.food.com/recipe/arriba---baked-win...</td>\n",
       "      <td>[1, 1 -2, 1 -2, , , , ]</td>\n",
       "      <td>[lb, teaspoon, teaspoon, , , , ]</td>\n",
       "      <td>51.5</td>\n",
       "    </tr>\n",
       "    <tr>\n",
       "      <th>1</th>\n",
       "      <td>a bit different  breakfast pizza</td>\n",
       "      <td>31490</td>\n",
       "      <td>30</td>\n",
       "      <td>2</td>\n",
       "      <td>2002-06-17</td>\n",
       "      <td>[30-minutes-or-less, time-to-make, course, mai...</td>\n",
       "      <td>[173.4, 18.0, 0.0, 17.0, 22.0, 35.0, 1.0]</td>\n",
       "      <td>9</td>\n",
       "      <td>[preheat oven to 425 degrees f, press dough in...</td>\n",
       "      <td>this recipe calls for the crust to be prebaked...</td>\n",
       "      <td>[prepared pizza crust, sausage patty, eggs, mi...</td>\n",
       "      <td>6</td>\n",
       "      <td>https://www.food.com/recipe/a-bit-different--b...</td>\n",
       "      <td>[1, 1, 3, 1⁄2, , 2]</td>\n",
       "      <td>[(10 ounce) can prepared pizza crust (or use y...</td>\n",
       "      <td>173.4</td>\n",
       "    </tr>\n",
       "    <tr>\n",
       "      <th>2</th>\n",
       "      <td>alouette  potatoes</td>\n",
       "      <td>59389</td>\n",
       "      <td>45</td>\n",
       "      <td>3</td>\n",
       "      <td>2003-04-14</td>\n",
       "      <td>[60-minutes-or-less, time-to-make, course, mai...</td>\n",
       "      <td>[368.1, 17.0, 10.0, 2.0, 14.0, 8.0, 20.0]</td>\n",
       "      <td>11</td>\n",
       "      <td>[place potatoes in a large pot of lightly salt...</td>\n",
       "      <td>this is a super easy, great tasting, make ahea...</td>\n",
       "      <td>[spreadable cheese with garlic and herbs, new ...</td>\n",
       "      <td>11</td>\n",
       "      <td>https://www.food.com/recipe/alouette--potatoes...</td>\n",
       "      <td>[2, 12, 2, 2, 1, 5, 2, 1⁄8, 1⁄8, , ]</td>\n",
       "      <td>[(4 ounce) packages, large, shallots, teaspoon...</td>\n",
       "      <td>368.1</td>\n",
       "    </tr>\n",
       "    <tr>\n",
       "      <th>3</th>\n",
       "      <td>apple a day  milk shake</td>\n",
       "      <td>5289</td>\n",
       "      <td>0</td>\n",
       "      <td>4</td>\n",
       "      <td>1999-12-06</td>\n",
       "      <td>[15-minutes-or-less, time-to-make, course, mai...</td>\n",
       "      <td>[160.2, 10.0, 55.0, 3.0, 9.0, 20.0, 7.0]</td>\n",
       "      <td>4</td>\n",
       "      <td>[combine ingredients in blender, cover and ble...</td>\n",
       "      <td>NaN</td>\n",
       "      <td>[milk, vanilla ice cream, frozen apple juice c...</td>\n",
       "      <td>4</td>\n",
       "      <td>https://www.food.com/recipe/apple-a-day--milk-...</td>\n",
       "      <td>[1, 1, 2, 1⁄2]</td>\n",
       "      <td>[cup, scoop, tablespoons, apple]</td>\n",
       "      <td>160.2</td>\n",
       "    </tr>\n",
       "    <tr>\n",
       "      <th>4</th>\n",
       "      <td>aww  marinated olives</td>\n",
       "      <td>25274</td>\n",
       "      <td>15</td>\n",
       "      <td>5</td>\n",
       "      <td>2002-04-14</td>\n",
       "      <td>[15-minutes-or-less, time-to-make, course, mai...</td>\n",
       "      <td>[380.7, 53.0, 7.0, 24.0, 6.0, 24.0, 6.0]</td>\n",
       "      <td>4</td>\n",
       "      <td>[toast the fennel seeds and lightly crush them...</td>\n",
       "      <td>my italian mil was thoroughly impressed by my ...</td>\n",
       "      <td>[fennel seeds, green olives, ripe olives, garl...</td>\n",
       "      <td>9</td>\n",
       "      <td>https://www.food.com/recipe/aww--marinated-oli...</td>\n",
       "      <td>[1 1⁄2, 1, 1, 1, 1, 1, 1, 1, 4]</td>\n",
       "      <td>[teaspoons, cup, cup, clove, teaspoon, tablesp...</td>\n",
       "      <td>380.7</td>\n",
       "    </tr>\n",
       "  </tbody>\n",
       "</table>\n",
       "</div>"
      ],
      "text/plain": [
       "                                         name      id  minutes  \\\n",
       "0  arriba   baked winter squash mexican style  137739       55   \n",
       "1            a bit different  breakfast pizza   31490       30   \n",
       "2                          alouette  potatoes   59389       45   \n",
       "3                     apple a day  milk shake    5289        0   \n",
       "4                       aww  marinated olives   25274       15   \n",
       "\n",
       "   contributor_id   submitted  \\\n",
       "0               1  2005-09-16   \n",
       "1               2  2002-06-17   \n",
       "2               3  2003-04-14   \n",
       "3               4  1999-12-06   \n",
       "4               5  2002-04-14   \n",
       "\n",
       "                                                tags  \\\n",
       "0  [60-minutes-or-less, time-to-make, course, mai...   \n",
       "1  [30-minutes-or-less, time-to-make, course, mai...   \n",
       "2  [60-minutes-or-less, time-to-make, course, mai...   \n",
       "3  [15-minutes-or-less, time-to-make, course, mai...   \n",
       "4  [15-minutes-or-less, time-to-make, course, mai...   \n",
       "\n",
       "                                   nutrition  n_steps  \\\n",
       "0      [51.5, 0.0, 13.0, 0.0, 2.0, 0.0, 4.0]       11   \n",
       "1  [173.4, 18.0, 0.0, 17.0, 22.0, 35.0, 1.0]        9   \n",
       "2  [368.1, 17.0, 10.0, 2.0, 14.0, 8.0, 20.0]       11   \n",
       "3   [160.2, 10.0, 55.0, 3.0, 9.0, 20.0, 7.0]        4   \n",
       "4   [380.7, 53.0, 7.0, 24.0, 6.0, 24.0, 6.0]        4   \n",
       "\n",
       "                                               steps  \\\n",
       "0  [make a choice and proceed with recipe, depend...   \n",
       "1  [preheat oven to 425 degrees f, press dough in...   \n",
       "2  [place potatoes in a large pot of lightly salt...   \n",
       "3  [combine ingredients in blender, cover and ble...   \n",
       "4  [toast the fennel seeds and lightly crush them...   \n",
       "\n",
       "                                         description  \\\n",
       "0  autumn is my favorite time of year to cook! th...   \n",
       "1  this recipe calls for the crust to be prebaked...   \n",
       "2  this is a super easy, great tasting, make ahea...   \n",
       "3                                                NaN   \n",
       "4  my italian mil was thoroughly impressed by my ...   \n",
       "\n",
       "                                         ingredients  n_ingredients  \\\n",
       "0  [winter squash, mexican seasoning, mixed spice...              7   \n",
       "1  [prepared pizza crust, sausage patty, eggs, mi...              6   \n",
       "2  [spreadable cheese with garlic and herbs, new ...             11   \n",
       "3  [milk, vanilla ice cream, frozen apple juice c...              4   \n",
       "4  [fennel seeds, green olives, ripe olives, garl...              9   \n",
       "\n",
       "                                     food_recipe_url  \\\n",
       "0  https://www.food.com/recipe/arriba---baked-win...   \n",
       "1  https://www.food.com/recipe/a-bit-different--b...   \n",
       "2  https://www.food.com/recipe/alouette--potatoes...   \n",
       "3  https://www.food.com/recipe/apple-a-day--milk-...   \n",
       "4  https://www.food.com/recipe/aww--marinated-oli...   \n",
       "\n",
       "                             quantities  \\\n",
       "0               [1, 1 -2, 1 -2, , , , ]   \n",
       "1                   [1, 1, 3, 1⁄2, , 2]   \n",
       "2  [2, 12, 2, 2, 1, 5, 2, 1⁄8, 1⁄8, , ]   \n",
       "3                        [1, 1, 2, 1⁄2]   \n",
       "4       [1 1⁄2, 1, 1, 1, 1, 1, 1, 1, 4]   \n",
       "\n",
       "                                   measurement_units  calories  \n",
       "0                   [lb, teaspoon, teaspoon, , , , ]      51.5  \n",
       "1  [(10 ounce) can prepared pizza crust (or use y...     173.4  \n",
       "2  [(4 ounce) packages, large, shallots, teaspoon...     368.1  \n",
       "3                   [cup, scoop, tablespoons, apple]     160.2  \n",
       "4  [teaspoons, cup, cup, clove, teaspoon, tablesp...     380.7  "
      ]
     },
     "execution_count": 6,
     "metadata": {},
     "output_type": "execute_result"
    }
   ],
   "source": [
    "recipe_df.head()"
   ]
  },
  {
   "cell_type": "code",
   "execution_count": 7,
   "id": "023f9382",
   "metadata": {},
   "outputs": [
    {
     "data": {
      "text/plain": [
       "['winter squash',\n",
       " 'mexican seasoning',\n",
       " 'mixed spice',\n",
       " 'honey',\n",
       " 'butter',\n",
       " 'olive oil',\n",
       " 'salt']"
      ]
     },
     "metadata": {},
     "output_type": "display_data"
    },
    {
     "data": {
      "text/plain": [
       "['1', '1 -2', '1 -2', '', '', '', '']"
      ]
     },
     "metadata": {},
     "output_type": "display_data"
    },
    {
     "data": {
      "text/plain": [
       "['lb', 'teaspoon', 'teaspoon', '', '', '', '']"
      ]
     },
     "metadata": {},
     "output_type": "display_data"
    },
    {
     "data": {
      "text/plain": [
       "['60-minutes-or-less',\n",
       " 'time-to-make',\n",
       " 'course',\n",
       " 'main-ingredient',\n",
       " 'cuisine',\n",
       " 'preparation',\n",
       " 'occasion',\n",
       " 'north-american',\n",
       " 'side-dishes',\n",
       " 'vegetables',\n",
       " 'mexican',\n",
       " 'easy',\n",
       " 'fall',\n",
       " 'holiday-event',\n",
       " 'vegetarian',\n",
       " 'winter',\n",
       " 'dietary',\n",
       " 'christmas',\n",
       " 'seasonal',\n",
       " 'squash']"
      ]
     },
     "metadata": {},
     "output_type": "display_data"
    }
   ],
   "source": [
    "display(recipe_df.iloc[0].ingredients)\n",
    "display(recipe_df.iloc[0].quantities)\n",
    "display(recipe_df.iloc[0].measurement_units)\n",
    "display(recipe_df.iloc[0].tags)"
   ]
  },
  {
   "cell_type": "code",
   "execution_count": 8,
   "id": "ffad0f10",
   "metadata": {},
   "outputs": [
    {
     "data": {
      "text/plain": [
       "{'ainu': 0,\n",
       " 'albanian': 1,\n",
       " 'argentine': 2,\n",
       " 'andhra': 3,\n",
       " 'american': 4,\n",
       " 'anglo-indian': 5,\n",
       " 'arab': 6,\n",
       " 'armenian': 7,\n",
       " 'assyrian': 8,\n",
       " 'awadhi': 9,\n",
       " 'azerbaijani': 10,\n",
       " 'balochi': 11,\n",
       " 'bashkir': 12,\n",
       " 'belarusian': 13,\n",
       " 'bangladeshi': 14,\n",
       " 'bengali': 15,\n",
       " 'berber': 16,\n",
       " 'brazilian': 17,\n",
       " 'british': 18,\n",
       " 'buddhist': 19,\n",
       " 'bulgarian': 20,\n",
       " 'cajun': 21,\n",
       " 'cantonese': 22,\n",
       " 'caribbean': 23,\n",
       " 'chechen': 24,\n",
       " 'chinese cuisine': 25,\n",
       " 'chinese islamic': 26,\n",
       " 'circassian': 27,\n",
       " 'crimean tatar': 28,\n",
       " 'cypriot': 29,\n",
       " 'czech': 30,\n",
       " 'danish': 31,\n",
       " 'egyptian': 32,\n",
       " 'english': 33,\n",
       " 'ethiopian': 34,\n",
       " 'eritrean': 35,\n",
       " 'estonian': 36,\n",
       " 'french': 37,\n",
       " 'filipino': 38,\n",
       " 'georgian': 39,\n",
       " 'german': 40,\n",
       " 'goan': 41,\n",
       " 'goan catholic': 42,\n",
       " 'greek': 43,\n",
       " 'gujarati': 44,\n",
       " 'hyderabad': 45,\n",
       " 'indian cuisine': 46,\n",
       " 'indian chinese': 47,\n",
       " 'indian singaporean cuisine': 48,\n",
       " 'indonesian': 49,\n",
       " 'inuit': 50,\n",
       " 'irish': 51,\n",
       " 'italian-american': 52,\n",
       " 'italian cuisine': 53,\n",
       " 'jamaican': 54,\n",
       " 'japanese': 55,\n",
       " 'jewish -  israeli': 56,\n",
       " 'karnataka': 57,\n",
       " 'kazakh': 58,\n",
       " 'keralite': 59,\n",
       " 'korean': 60,\n",
       " 'kurdish': 61,\n",
       " 'laotian': 62,\n",
       " 'lebanese': 63,\n",
       " 'latvian': 64,\n",
       " 'lithuanian': 65,\n",
       " 'louisiana creole': 66,\n",
       " 'maharashtrian': 67,\n",
       " 'mangalorean': 68,\n",
       " 'malay': 129,\n",
       " 'malaysian chinese cuisine': 70,\n",
       " 'malaysian indian cuisine': 71,\n",
       " 'mediterranean cuisine': 72,\n",
       " 'mennonite': 73,\n",
       " 'mexican': 74,\n",
       " 'mordovian': 75,\n",
       " 'mughal': 76,\n",
       " 'native american': 77,\n",
       " 'nepalese': 78,\n",
       " 'new mexican': 79,\n",
       " 'odia': 80,\n",
       " 'parsi': 81,\n",
       " 'pashtun': 82,\n",
       " 'polish': 83,\n",
       " 'pennsylvania dutch': 84,\n",
       " 'pakistani': 85,\n",
       " 'peranakan': 86,\n",
       " 'persian': 87,\n",
       " 'peruvian': 88,\n",
       " 'portuguese': 89,\n",
       " 'punjabi': 90,\n",
       " 'québécois': 91,\n",
       " 'rajasthani': 92,\n",
       " 'romani': 93,\n",
       " 'romanian': 94,\n",
       " 'russian': 95,\n",
       " 'sami': 96,\n",
       " 'serbian': 97,\n",
       " 'sindhi': 98,\n",
       " 'slovak': 99,\n",
       " 'slovenian': 100,\n",
       " 'somali': 101,\n",
       " 'south indian': 102,\n",
       " 'soviet': 103,\n",
       " 'spanish': 104,\n",
       " 'sri lankan': 105,\n",
       " 'taiwanese': 106,\n",
       " 'tatar': 107,\n",
       " 'texan': 108,\n",
       " 'thai': 109,\n",
       " 'turkish': 110,\n",
       " 'tamil': 111,\n",
       " 'udupi': 112,\n",
       " 'ukrainian': 113,\n",
       " 'vietnamese': 114,\n",
       " 'yamal': 115,\n",
       " 'zambian': 116,\n",
       " 'zanzibari': 117,\n",
       " 'asian': 118,\n",
       " 'north-american': 119,\n",
       " 'south-american': 120,\n",
       " 'iranian-persian': 121,\n",
       " 'arabic': 122,\n",
       " 'middle-eastern': 123,\n",
       " 'saudi-arabian': 124,\n",
       " 'indian': 125,\n",
       " 'chinese': 126,\n",
       " 'italian': 127,\n",
       " 'malaysian': 128,\n",
       " 'mediterranean': 130,\n",
       " 'global': 131,\n",
       " 'fusion': 132,\n",
       " 'haute': 133,\n",
       " 'nouvelle': 134,\n",
       " 'singaporean': 135,\n",
       " 'tex-mex': 136,\n",
       " 'none': 137}"
      ]
     },
     "execution_count": 8,
     "metadata": {},
     "output_type": "execute_result"
    }
   ],
   "source": [
    "cuisine_map"
   ]
  },
  {
   "cell_type": "markdown",
   "id": "2cc54e6c",
   "metadata": {},
   "source": [
    "## Converting Strings to Numbers. Three Cases\n",
    "1. Fractions (\"1/3\", \"1/2\" --> 0.333, 0.5)\n",
    "2. Ranges (\"1 -2\" --> 1)\n",
    "3. Normal integers (\"1\", \"4\" --> 1, 4)\n",
    "4. Range with Fractions (\"1⁄4 - 1⁄2\" --> 1/4)"
   ]
  },
  {
   "cell_type": "code",
   "execution_count": 9,
   "id": "7b8ebc52",
   "metadata": {},
   "outputs": [],
   "source": [
    "def convert_to_float(frac_str):\n",
    "    if frac_str == \"\":\n",
    "        return None\n",
    "    if \" \" in frac_str:\n",
    "        frac_str = frac_str.split(\" \")[0]\n",
    "    try:\n",
    "        return float(frac_str)\n",
    "    except ValueError:\n",
    "        if \"⁄\" in frac_str:\n",
    "            split_frac = frac_str.split(\"⁄\")\n",
    "            num, denom = split_frac[0], split_frac[1]\n",
    "            float_str = float(num) / float(denom)\n",
    "        return float_str"
   ]
  },
  {
   "cell_type": "code",
   "execution_count": 10,
   "id": "4ddf3084",
   "metadata": {},
   "outputs": [],
   "source": [
    "recipe_df[\"quantities\"] = recipe_df.quantities.map(lambda x: [convert_to_float(item) for item in x])"
   ]
  },
  {
   "cell_type": "code",
   "execution_count": 11,
   "id": "74f54aae",
   "metadata": {},
   "outputs": [
    {
     "data": {
      "text/plain": [
       "0    [60-minutes-or-less, time-to-make, course, mai...\n",
       "1    [30-minutes-or-less, time-to-make, course, mai...\n",
       "2    [60-minutes-or-less, time-to-make, course, mai...\n",
       "3    [15-minutes-or-less, time-to-make, course, mai...\n",
       "4    [15-minutes-or-less, time-to-make, course, mai...\n",
       "Name: tags, dtype: object"
      ]
     },
     "execution_count": 11,
     "metadata": {},
     "output_type": "execute_result"
    }
   ],
   "source": [
    "recipe_df[\"tags\"].head()"
   ]
  },
  {
   "cell_type": "code",
   "execution_count": 12,
   "id": "bfc90c3f",
   "metadata": {},
   "outputs": [],
   "source": [
    "def output_tag(tag_lst):\n",
    "    lst = [tag for tag in tag_lst for cuisine in cuisine_map if (cuisine in tag)]\n",
    "    if len(lst) == 0:\n",
    "        return \"global\"\n",
    "    return lst[0]"
   ]
  },
  {
   "cell_type": "code",
   "execution_count": 13,
   "id": "1df76836",
   "metadata": {},
   "outputs": [],
   "source": [
    "recipe_df[\"cuisine\"] = recipe_df.tags.map(output_tag)"
   ]
  },
  {
   "cell_type": "code",
   "execution_count": 14,
   "id": "0c54d21b",
   "metadata": {
    "scrolled": false
   },
   "outputs": [
    {
     "data": {
      "text/plain": [
       "global            117923\n",
       "north-american     37366\n",
       "asian               9429\n",
       "italian             4790\n",
       "greek               1670\n",
       "french              1261\n",
       "english              954\n",
       "german               864\n",
       "spanish              704\n",
       "south-american       516\n",
       "irish                374\n",
       "mexican              347\n",
       "indian               293\n",
       "middle-eastern       233\n",
       "portuguese           215\n",
       "russian              213\n",
       "polish               206\n",
       "danish               179\n",
       "brazilian            163\n",
       "egyptian             130\n",
       "malaysian             89\n",
       "saudi-arabian         75\n",
       "czech                 67\n",
       "cantonese             53\n",
       "ethiopian             52\n",
       "cambodian             38\n",
       "nepalese              30\n",
       "laotian               13\n",
       "somalian               9\n",
       "georgian               9\n",
       "Name: cuisine, dtype: int64"
      ]
     },
     "execution_count": 14,
     "metadata": {},
     "output_type": "execute_result"
    }
   ],
   "source": [
    "recipe_df[\"cuisine\"].value_counts()"
   ]
  },
  {
   "cell_type": "code",
   "execution_count": 15,
   "id": "9a785b53",
   "metadata": {},
   "outputs": [],
   "source": [
    "recipe_df[\"img_url\"] = scraped_img_urls"
   ]
  },
  {
   "cell_type": "code",
   "execution_count": 16,
   "id": "85ff3e03",
   "metadata": {},
   "outputs": [],
   "source": [
    "recipe_df[\"serves\"] = np.random.choice(np.arange(1, 5), size=recipe_df.shape[0])"
   ]
  },
  {
   "cell_type": "code",
   "execution_count": 18,
   "id": "53d4505a",
   "metadata": {},
   "outputs": [
    {
     "data": {
      "text/plain": [
       "Index(['name', 'id', 'minutes', 'contributor_id', 'submitted', 'tags',\n",
       "       'nutrition', 'n_steps', 'steps', 'description', 'ingredients',\n",
       "       'n_ingredients', 'food_recipe_url', 'quantities', 'measurement_units',\n",
       "       'calories', 'cuisine', 'img_url', 'serves'],\n",
       "      dtype='object')"
      ]
     },
     "execution_count": 18,
     "metadata": {},
     "output_type": "execute_result"
    }
   ],
   "source": [
    "recipe_df.columns"
   ]
  },
  {
   "cell_type": "code",
   "execution_count": 20,
   "id": "1bbb1b9c",
   "metadata": {},
   "outputs": [],
   "source": [
    "recipe_df = recipe_df.rename(columns={\"id\": \"recipe_id\", \"minutes\": \"time_to_prepare\", \n",
    "                          \"submitted\": \"date_submitted\", \"steps\": \"recipe_text\", \"name\": \"recipe_name\",\n",
    "                         \"contributor_id\": \"creator_id\"})"
   ]
  },
  {
   "cell_type": "code",
   "execution_count": 21,
   "id": "ffee5853",
   "metadata": {},
   "outputs": [
    {
     "name": "stdout",
     "output_type": "stream",
     "text": [
      "<class 'pandas.core.frame.DataFrame'>\n",
      "Int64Index: 11659 entries, 0 to 11658\n",
      "Data columns (total 7 columns):\n",
      " #   Column     Non-Null Count  Dtype \n",
      "---  ------     --------------  ----- \n",
      " 0   raw_ingr   11659 non-null  object\n",
      " 1   raw_words  11659 non-null  int64 \n",
      " 2   processed  11659 non-null  object\n",
      " 3   len_proc   11659 non-null  int64 \n",
      " 4   replaced   11659 non-null  object\n",
      " 5   count      11659 non-null  int64 \n",
      " 6   id         11659 non-null  int16 \n",
      "dtypes: int16(1), int64(3), object(3)\n",
      "memory usage: 660.4+ KB\n"
     ]
    }
   ],
   "source": [
    "ingr_map_df.info()"
   ]
  },
  {
   "cell_type": "code",
   "execution_count": 22,
   "id": "d1568baa",
   "metadata": {},
   "outputs": [],
   "source": [
    "ingr_map_df.to_csv(\"ingr_map.csv\", index=False)"
   ]
  },
  {
   "cell_type": "code",
   "execution_count": 23,
   "id": "d7c32053",
   "metadata": {},
   "outputs": [],
   "source": [
    "recipe_df.to_csv(\"recipe_178k_with_all_updated_columns.csv\",index=False)"
   ]
  },
  {
   "cell_type": "code",
   "execution_count": 223,
   "id": "10984b8b",
   "metadata": {},
   "outputs": [
    {
     "name": "stdout",
     "output_type": "stream",
     "text": [
      "<class 'pandas.core.frame.DataFrame'>\n",
      "RangeIndex: 178265 entries, 0 to 178264\n",
      "Data columns (total 8 columns):\n",
      " #   Column             Non-Null Count   Dtype \n",
      "---  ------             --------------   ----- \n",
      " 0   id                 178265 non-null  int64 \n",
      " 1   i                  178265 non-null  int64 \n",
      " 2   name_tokens        178265 non-null  object\n",
      " 3   ingredient_tokens  178265 non-null  object\n",
      " 4   steps_tokens       178265 non-null  object\n",
      " 5   techniques         178265 non-null  object\n",
      " 6   calorie_level      178265 non-null  int64 \n",
      " 7   ingredient_ids     178265 non-null  object\n",
      "dtypes: int64(3), object(5)\n",
      "memory usage: 10.9+ MB\n"
     ]
    }
   ],
   "source": [
    "pp_recipe_df.info()"
   ]
  },
  {
   "cell_type": "code",
   "execution_count": null,
   "id": "96074ca9",
   "metadata": {},
   "outputs": [],
   "source": []
  }
 ],
 "metadata": {
  "kernelspec": {
   "display_name": "Python 3",
   "language": "python",
   "name": "python3"
  },
  "language_info": {
   "codemirror_mode": {
    "name": "ipython",
    "version": 3
   },
   "file_extension": ".py",
   "mimetype": "text/x-python",
   "name": "python",
   "nbconvert_exporter": "python",
   "pygments_lexer": "ipython3",
   "version": "3.7.10"
  }
 },
 "nbformat": 4,
 "nbformat_minor": 5
}
