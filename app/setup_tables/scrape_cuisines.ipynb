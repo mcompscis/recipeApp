{
 "cells": [
  {
   "cell_type": "code",
   "execution_count": 46,
   "id": "b9b6bd61",
   "metadata": {},
   "outputs": [],
   "source": [
    "from bs4 import BeautifulSoup\n",
    "import requests\n",
    "import json\n",
    "import pickle"
   ]
  },
  {
   "cell_type": "code",
   "execution_count": 31,
   "id": "55cd60c8",
   "metadata": {},
   "outputs": [],
   "source": [
    "usr_agent = {\n",
    "    'User-Agent': 'Mozilla/5.0 (X11; Linux x86_64) AppleWebKit/537.11 (KHTML, like Gecko) Chrome/23.0.1271.64 Safari/537.11',\n",
    "    'Accept': 'text/html,application/xhtml+xml,application/xml;q=0.9,*/*;q=0.8',\n",
    "    'Accept-Charset': 'ISO-8859-1,utf-8;q=0.7,*;q=0.3',\n",
    "    'Accept-Encoding': 'none',\n",
    "    'Accept-Language': 'en-US,en;q=0.8',\n",
    "    'Connection': 'keep-alive',\n",
    "}\n"
   ]
  },
  {
   "cell_type": "code",
   "execution_count": 58,
   "id": "67379d4b",
   "metadata": {},
   "outputs": [],
   "source": [
    "url=f\"https://en.wikipedia.org/wiki/List_of_cuisines\"\n",
    "result = requests.get(url, headers=usr_agent)"
   ]
  },
  {
   "cell_type": "code",
   "execution_count": 59,
   "id": "35306aac",
   "metadata": {},
   "outputs": [],
   "source": [
    "soup = BeautifulSoup(result.content, 'html.parser')"
   ]
  },
  {
   "cell_type": "code",
   "execution_count": 60,
   "id": "db37ade1",
   "metadata": {},
   "outputs": [],
   "source": [
    "cuisine_lst = []\n",
    "for a in soup.find_all(\"div\", {\"class\": \"div-col\"}):\n",
    "    for cuisine in a.find_all(\"li\"):\n",
    "        cuisine_lst.append(cuisine.text)"
   ]
  },
  {
   "cell_type": "code",
   "execution_count": 61,
   "id": "eadd6e76",
   "metadata": {},
   "outputs": [],
   "source": [
    "with open(\"cuisine_lst.pkl\", \"wb\") as f:\n",
    "    cuisine_lst = cuisine_lst + [\"asian\", \"north-american\", \"south-american\", \"iranian-persian\", \"arabic\",\n",
    "                   \"middle-eastern\", \"saudi-arabian\", \"indian\", \"chinese\", \"italian\", \"Malaysian\", \n",
    "                    \"Malay\", \"Mediterranean\", \"global\",\"fusion\", \"haute\", \"Nouvelle\", \"Singaporean\",\n",
    "                    \"tex-mex\",\n",
    "                   ]\n",
    "    pickle.dump(cuisine_lst, f)"
   ]
  },
  {
   "cell_type": "code",
   "execution_count": null,
   "id": "357381db",
   "metadata": {},
   "outputs": [],
   "source": []
  }
 ],
 "metadata": {
  "kernelspec": {
   "display_name": "Python 3",
   "language": "python",
   "name": "python3"
  },
  "language_info": {
   "codemirror_mode": {
    "name": "ipython",
    "version": 3
   },
   "file_extension": ".py",
   "mimetype": "text/x-python",
   "name": "python",
   "nbconvert_exporter": "python",
   "pygments_lexer": "ipython3",
   "version": "3.7.10"
  }
 },
 "nbformat": 4,
 "nbformat_minor": 5
}
